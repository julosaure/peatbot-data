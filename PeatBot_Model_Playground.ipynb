{
  "nbformat": 4,
  "nbformat_minor": 0,
  "metadata": {
    "colab": {
      "provenance": [],
      "include_colab_link": true
    },
    "kernelspec": {
      "name": "python3",
      "display_name": "Python 3"
    },
    "language_info": {
      "name": "python"
    }
  },
  "cells": [
    {
      "cell_type": "markdown",
      "metadata": {
        "id": "view-in-github",
        "colab_type": "text"
      },
      "source": [
        "<a href=\"https://colab.research.google.com/github/julosaure/peatbot-data/blob/main/PeatBot_Model_Playground.ipynb\" target=\"_parent\"><img src=\"https://colab.research.google.com/assets/colab-badge.svg\" alt=\"Open In Colab\"/></a>"
      ]
    },
    {
      "cell_type": "markdown",
      "source": [
        "## Peatbot Model Playground"
      ],
      "metadata": {
        "id": "5IrRgzdAnd16"
      }
    },
    {
      "cell_type": "markdown",
      "source": [
        "## Required Libraries"
      ],
      "metadata": {
        "id": "M66BMcWnvc2f"
      }
    },
    {
      "cell_type": "code",
      "source": [
        "!pip install -qU langchain gpt-index tiktoken matplotlib seaborn tqdm"
      ],
      "metadata": {
        "id": "5IkLKGi5vgr6",
        "colab": {
          "base_uri": "https://localhost:8080/"
        },
        "outputId": "80b8f7d7-2836-4585-f56e-1538881a02b4"
      },
      "execution_count": null,
      "outputs": [
        {
          "output_type": "stream",
          "name": "stdout",
          "text": [
            "\u001b[2K     \u001b[90m━━━━━━━━━━━━━━━━━━━━━━━━━━━━━━━━━━━━━━━\u001b[0m \u001b[32m626.5/626.5 kB\u001b[0m \u001b[31m6.7 MB/s\u001b[0m eta \u001b[36m0:00:00\u001b[0m\n",
            "\u001b[2K     \u001b[90m━━━━━━━━━━━━━━━━━━━━━━━━━━━━━━━━━━━━━━━\u001b[0m \u001b[32m343.5/343.5 kB\u001b[0m \u001b[31m5.2 MB/s\u001b[0m eta \u001b[36m0:00:00\u001b[0m\n",
            "\u001b[2K     \u001b[90m━━━━━━━━━━━━━━━━━━━━━━━━━━━━━━━━━━━━━━━━\u001b[0m \u001b[32m1.7/1.7 MB\u001b[0m \u001b[31m36.0 MB/s\u001b[0m eta \u001b[36m0:00:00\u001b[0m\n",
            "\u001b[2K     \u001b[90m━━━━━━━━━━━━━━━━━━━━━━━━━━━━━━━━━━━━━━━━\u001b[0m \u001b[32m1.6/1.6 MB\u001b[0m \u001b[31m14.9 MB/s\u001b[0m eta \u001b[36m0:00:00\u001b[0m\n",
            "\u001b[2K     \u001b[90m━━━━━━━━━━━━━━━━━━━━━━━━━━━━━━━━━━━━━━━━\u001b[0m \u001b[32m1.0/1.0 MB\u001b[0m \u001b[31m20.1 MB/s\u001b[0m eta \u001b[36m0:00:00\u001b[0m\n",
            "\u001b[2K     \u001b[90m━━━━━━━━━━━━━━━━━━━━━━━━━━━━━━━━━━━━━━━━\u001b[0m \u001b[32m90.0/90.0 kB\u001b[0m \u001b[31m7.5 MB/s\u001b[0m eta \u001b[36m0:00:00\u001b[0m\n",
            "\u001b[2K     \u001b[90m━━━━━━━━━━━━━━━━━━━━━━━━━━━━━━━━━━━━━━\u001b[0m \u001b[32m548.8/548.8 kB\u001b[0m \u001b[31m24.7 MB/s\u001b[0m eta \u001b[36m0:00:00\u001b[0m\n",
            "\u001b[2K     \u001b[90m━━━━━━━━━━━━━━━━━━━━━━━━━━━━━━━━━━━━━━━━\u001b[0m \u001b[32m70.3/70.3 kB\u001b[0m \u001b[31m4.2 MB/s\u001b[0m eta \u001b[36m0:00:00\u001b[0m\n",
            "\u001b[2K     \u001b[90m━━━━━━━━━━━━━━━━━━━━━━━━━━━━━━━━━━━━━━━━\u001b[0m \u001b[32m72.1/72.1 kB\u001b[0m \u001b[31m6.1 MB/s\u001b[0m eta \u001b[36m0:00:00\u001b[0m\n",
            "\u001b[2K     \u001b[90m━━━━━━━━━━━━━━━━━━━━━━━━━━━━━━━━━━━━━━\u001b[0m \u001b[32m269.3/269.3 kB\u001b[0m \u001b[31m10.3 MB/s\u001b[0m eta \u001b[36m0:00:00\u001b[0m\n",
            "\u001b[2K     \u001b[90m━━━━━━━━━━━━━━━━━━━━━━━━━━━━━━━━━━━━━━━\u001b[0m \u001b[32m158.8/158.8 kB\u001b[0m \u001b[31m6.6 MB/s\u001b[0m eta \u001b[36m0:00:00\u001b[0m\n",
            "\u001b[2K     \u001b[90m━━━━━━━━━━━━━━━━━━━━━━━━━━━━━━━━━━━━━━━\u001b[0m \u001b[32m114.2/114.2 kB\u001b[0m \u001b[31m3.4 MB/s\u001b[0m eta \u001b[36m0:00:00\u001b[0m\n",
            "\u001b[2K     \u001b[90m━━━━━━━━━━━━━━━━━━━━━━━━━━━━━━━━━━━━━━━━\u001b[0m \u001b[32m49.1/49.1 kB\u001b[0m \u001b[31m4.2 MB/s\u001b[0m eta \u001b[36m0:00:00\u001b[0m\n",
            "\u001b[?25h"
          ]
        }
      ]
    },
    {
      "cell_type": "code",
      "source": [
        "from IPython.display import Markdown, display\n",
        "import os"
      ],
      "metadata": {
        "id": "ueGJF59r1xOb"
      },
      "execution_count": null,
      "outputs": []
    },
    {
      "cell_type": "markdown",
      "source": [
        "### Downloading the `.zip`"
      ],
      "metadata": {
        "id": "Y98h4PDAqeUi"
      }
    },
    {
      "cell_type": "markdown",
      "source": [
        "First, we need to download the Ray Peat corpus. I've made a `.zip` file accessible on [GitHub](https://github.com/o1brad/peatbot-data/blob/main/data.zip).\n",
        "\n",
        "This `.zip` includes:\n",
        "- Many of Ray Peat's interviews, transcribed using Whisper\n",
        "- All of Ray Peat's articles that are available on [Chadnet](https://wiki.chadnet.org/ray-peat) as of 4/1/2023.\n",
        "- The Ray Peat Email Depository [wiki](https://raypeatforum.com/wiki/index.php/Ray_Peat_Email_Exchanges) and [forum thread](https://raypeatforum.com/community/threads/ray-peat-email-advice-depository.1035/).\n",
        "- Ray's master's and PhD thesis\n",
        "- All of Ray's books\n",
        "- Ray's Townsend letters\n",
        "\n",
        "If you have additional articles, patents, or private correspondence you would like me to include, please send me a DM on Twitter (@BradCohn).\n",
        "\n",
        "I have done some light pre-processing on the data, such as OCR on the `.pdfs` but there remain significant typos in the `.pdf` and interview transcription. If you would like to contribute fixes, again feel free to reach out on Twitter."
      ],
      "metadata": {
        "id": "27j9peU-nm-8"
      }
    },
    {
      "cell_type": "code",
      "source": [
        "!wget https://github.com/o1brad/peatbot-data/raw/main/data.zip -O data.zip"
      ],
      "metadata": {
        "id": "Er5O2NQpnj9i",
        "colab": {
          "base_uri": "https://localhost:8080/"
        },
        "outputId": "ab0d916f-6ccc-4e3f-b990-083c94694d79"
      },
      "execution_count": null,
      "outputs": [
        {
          "output_type": "stream",
          "name": "stdout",
          "text": [
            "--2023-04-24 16:11:55--  https://github.com/o1brad/peatbot-data/raw/main/data.zip\n",
            "Resolving github.com (github.com)... 140.82.114.4\n",
            "Connecting to github.com (github.com)|140.82.114.4|:443... connected.\n",
            "HTTP request sent, awaiting response... 302 Found\n",
            "Location: https://raw.githubusercontent.com/o1brad/peatbot-data/main/data.zip [following]\n",
            "--2023-04-24 16:11:55--  https://raw.githubusercontent.com/o1brad/peatbot-data/main/data.zip\n",
            "Resolving raw.githubusercontent.com (raw.githubusercontent.com)... 185.199.108.133, 185.199.109.133, 185.199.110.133, ...\n",
            "Connecting to raw.githubusercontent.com (raw.githubusercontent.com)|185.199.108.133|:443... connected.\n",
            "HTTP request sent, awaiting response... 200 OK\n",
            "Length: 10924138 (10M) [application/zip]\n",
            "Saving to: ‘data.zip’\n",
            "\n",
            "data.zip            100%[===================>]  10.42M  --.-KB/s    in 0.09s   \n",
            "\n",
            "2023-04-24 16:11:56 (111 MB/s) - ‘data.zip’ saved [10924138/10924138]\n",
            "\n"
          ]
        }
      ]
    },
    {
      "cell_type": "markdown",
      "source": [
        "## Unzipping"
      ],
      "metadata": {
        "id": "Y-FHDLHOqipi"
      }
    },
    {
      "cell_type": "code",
      "source": [
        "!unzip data.zip"
      ],
      "metadata": {
        "colab": {
          "base_uri": "https://localhost:8080/"
        },
        "id": "razXrQ6FozIX",
        "outputId": "edbee13f-04fd-43ee-a02b-dce7c2994333"
      },
      "execution_count": null,
      "outputs": [
        {
          "output_type": "stream",
          "name": "stdout",
          "text": [
            "Archive:  data.zip\n",
            "   creating: data/\n",
            "  inflating: data/lactate-vs-co2-in-wounds-sickness-and-aging-the-other-approach-to-cancer.html  \n",
            "  inflating: __MACOSX/data/._lactate-vs-co2-in-wounds-sickness-and-aging-the-other-approach-to-cancer.html  \n",
            "  inflating: data/Ray Peat Interview with Tucker Goodrich, David Gornoski on PUFAs, Seed Oils, Benefits of Sugar, Milk [On4xMR-7q04].mp3-transcript.txt  \n",
            "  inflating: __MACOSX/data/._Ray Peat Interview with Tucker Goodrich, David Gornoski on PUFAs, Seed Oils, Benefits of Sugar, Milk [On4xMR-7q04].mp3-transcript.txt  \n",
            "  inflating: data/2002 - September.txt  \n",
            "  inflating: data/12.20.21 Peat Ray [1181861614].mp3-transcript.txt  \n",
            "  inflating: __MACOSX/data/._12.20.21 Peat Ray [1181861614].mp3-transcript.txt  \n",
            "  inflating: data/kmud-180518-progesterone-vs-estrogen-listener-questions-part2.mp3-transcript.txt  \n",
            "  inflating: __MACOSX/data/._kmud-180518-progesterone-vs-estrogen-listener-questions-part2.mp3-transcript.txt  \n",
            "  inflating: data/kmud-190118-skin-cancer-3.mp3-transcript.txt  \n",
            "  inflating: __MACOSX/data/._kmud-190118-skin-cancer-3.mp3-transcript.txt  \n",
            "  inflating: data/2012 - March.txt   \n",
            "  inflating: data/vegetables-etc-who-defines-food.html  \n",
            "  inflating: data/estrogen-receptors-what-do-they-explain.txt  \n",
            "  inflating: data/kmud-160520-exploring-alternatives.mp3-transcript.txt  \n",
            "  inflating: __MACOSX/data/._kmud-160520-exploring-alternatives.mp3-transcript.txt  \n",
            "  inflating: data/polsci-120129-progesterone-2.mp3-transcript.txt  \n",
            "  inflating: __MACOSX/data/._polsci-120129-progesterone-2.mp3-transcript.txt  \n",
            "  inflating: data/yohaf-140729-heart-brain-cancer-and-hormones.mp3-transcript.txt  \n",
            "  inflating: __MACOSX/data/._yohaf-140729-heart-brain-cancer-and-hormones.mp3-transcript.txt  \n",
            "  inflating: data/can-art-instruct-science-william-blake-as-biological-visionary.html  \n",
            "  inflating: data/x-rays-estrogen-and-the-brain.txt  \n",
            "  inflating: data/kmud-161118-vitamin-d.mp3-transcript.txt  \n",
            "  inflating: __MACOSX/data/._kmud-161118-vitamin-d.mp3-transcript.txt  \n",
            "  inflating: data/2001 - May.txt     \n",
            "  inflating: data/kmud-191018-brain-barriers.mp3-transcript.txt  \n",
            "  inflating: __MACOSX/data/._kmud-191018-brain-barriers.mp3-transcript.txt  \n",
            "  inflating: data/oral-absorption-of-progesterone.txt  \n",
            "  inflating: data/kmud-100917-sugar-1.mp3-transcript.txt  \n",
            "  inflating: __MACOSX/data/._kmud-100917-sugar-1.mp3-transcript.txt  \n",
            "  inflating: data/bioelectric-fields-regeneration-and-the-lactic-acid-myth.txt  \n",
            "  inflating: data/kmud-131220-aging-and-energy-reversal.mp3-transcript.txt  \n",
            "  inflating: __MACOSX/data/._kmud-131220-aging-and-energy-reversal.mp3-transcript.txt  \n",
            "  inflating: data/07.18.22 Peat [1307585149].mp3-transcript.txt  \n",
            "  inflating: __MACOSX/data/._07.18.22 Peat [1307585149].mp3-transcript.txt  \n",
            "  inflating: data/07.20.20 Nothing is as it seems with COVID, July 20, 2020 [861603244].mp3-transcript.txt  \n",
            "  inflating: __MACOSX/data/._07.20.20 Nothing is as it seems with COVID, July 20, 2020 [861603244].mp3-transcript.txt  \n",
            "  inflating: data/1988 - May - Townsend Letter for Doctors.txt  \n",
            "  inflating: data/kmud-190315-viruses.mp3-transcript.txt  \n",
            "  inflating: __MACOSX/data/._kmud-190315-viruses.mp3-transcript.txt  \n",
            "  inflating: data/kmud-081201-cholesterol-is-an-important-molecule.mp3-transcript.txt  \n",
            "  inflating: __MACOSX/data/._kmud-081201-cholesterol-is-an-important-molecule.mp3-transcript.txt  \n",
            "  inflating: data/progesterone-thyroid-cancer.txt  \n",
            "  inflating: data/kmud-160415-mitochondria-gaba-herbs.mp3-transcript.txt  \n",
            "  inflating: __MACOSX/data/._kmud-160415-mitochondria-gaba-herbs.mp3-transcript.txt  \n",
            "  inflating: data/insomnia-and-hyperactivity.txt  \n",
            "  inflating: data/polsci-110330-obfuscation-of-radiation.mp3-transcript.txt  \n",
            "  inflating: __MACOSX/data/._polsci-110330-obfuscation-of-radiation.mp3-transcript.txt  \n",
            "  inflating: data/food-junk-and-some-mystery-ailments-fatigue-alzheimers-colitis-immunodeficiency.html  \n",
            "  inflating: data/polsci-090427-radiation-2.mp3-transcript.txt  \n",
            "  inflating: __MACOSX/data/._polsci-090427-radiation-2.mp3-transcript.txt  \n",
            "  inflating: data/masters-thesis-1960.txt  \n",
            "  inflating: data/kmud-110318-fukujima.mp3-transcript.txt  \n",
            "  inflating: __MACOSX/data/._kmud-110318-fukujima.mp3-transcript.txt  \n",
            "  inflating: data/progesterone-summaries.html  \n",
            "  inflating: data/1988 - August.September - Townsend Letter for Doctors.txt  \n",
            "  inflating: data/kmud-120518-genetics-x-environment.mp3-transcript.txt  \n",
            "  inflating: __MACOSX/data/._kmud-120518-genetics-x-environment.mp3-transcript.txt  \n",
            "  inflating: data/eluv-140101-effects-of-stress-and-trauma-on-the-body.mp3-transcript.txt  \n",
            "  inflating: __MACOSX/data/._eluv-140101-effects-of-stress-and-trauma-on-the-body.mp3-transcript.txt  \n",
            "  inflating: data/estrogen-and-osteoporosis.html  \n",
            "  inflating: data/taxol-yew-and-cancer.txt  \n",
            "  inflating: data/1994 - July - Townsend Letter for Doctors.txt  \n",
            "  inflating: data/Ray Peat Interviews Revisited – Ray Peat Insight (2022-12-04 9_26_55 a.m.).html  \n",
            "  inflating: __MACOSX/data/._Ray Peat Interviews Revisited – Ray Peat Insight (2022-12-04 9_26_55 a.m.).html  \n",
            "  inflating: data/oils-in-context.html  \n",
            "  inflating: data/polsci-200331-coronavirus-immunity-vaccines-part3.mp3-transcript.txt  \n",
            "  inflating: __MACOSX/data/._polsci-200331-coronavirus-immunity-vaccines-part3.mp3-transcript.txt  \n",
            "  inflating: data/#58： Bioenergetic Nutrition Continued ｜ Authoritarianism ｜ Intention and Learning with Ray Peat, PhD [kwynlIkJ4tU].mp3-transcript.txt  \n",
            "  inflating: __MACOSX/data/._#58： Bioenergetic Nutrition Continued ｜ Authoritarianism ｜ Intention and Learning with Ray Peat, PhD [kwynlIkJ4tU].mp3-transcript.txt  \n",
            "  inflating: data/kmud-121019-antioxidants.mp3-transcript.txt  \n",
            "  inflating: __MACOSX/data/._kmud-121019-antioxidants.mp3-transcript.txt  \n",
            "  inflating: data/1992 - November - Townsend Letter for Doctors.txt  \n",
            "  inflating: data/kmud-121221-dementia-progesterone.mp3-transcript.txt  \n",
            "  inflating: __MACOSX/data/._kmud-121221-dementia-progesterone.mp3-transcript.txt  \n",
            "  inflating: data/kmud-120615-cellular-repair.mp3-transcript.txt  \n",
            "  inflating: __MACOSX/data/._kmud-120615-cellular-repair.mp3-transcript.txt  \n",
            "  inflating: data/kmud-180119-female-hormones-progesterone.mp3-transcript.txt  \n",
            "  inflating: __MACOSX/data/._kmud-180119-female-hormones-progesterone.mp3-transcript.txt  \n",
            "  inflating: data/calcium-and-disease-hypertension-organ-calcification-and-shock-vs-respiratory-energy.html  \n",
            "  inflating: data/1990 - December - Townsend Letter for Doctors.txt  \n",
            "  inflating: data/kmud-170217-the-precautionary-principle-part2.mp3-transcript.txt  \n",
            "  inflating: __MACOSX/data/._kmud-170217-the-precautionary-principle-part2.mp3-transcript.txt  \n",
            "  inflating: data/06.21.21 Pear Ray [1073174857].mp3-transcript.txt  \n",
            "  inflating: __MACOSX/data/._06.21.21 Pear Ray [1073174857].mp3-transcript.txt  \n",
            "  inflating: data/multiple-sclerosis-and-other-hormone-related-brain-syndromes.html  \n",
            "  inflating: data/2012 - November.txt  \n",
            "  inflating: data/menopause-and-its-causes.html  \n",
            "  inflating: data/2001 - October.txt  \n",
            "  inflating: data/resistance-of-the-heart.txt  \n",
            "  inflating: data/bone-density-first-do-no-harm.html  \n",
            "  inflating: data/1990 - October - Townsend Letter for Doctors.txt  \n",
            "  inflating: data/#64： Life ｜ Energy ｜ Estrogen ｜ Fibrosis ｜ Calcification ｜ Process Theology ｜ Altruism with Ray Peat [P7l_jy6fhtw].mp3-transcript.txt  \n",
            "  inflating: __MACOSX/data/._#64： Life ｜ Energy ｜ Estrogen ｜ Fibrosis ｜ Calcification ｜ Process Theology ｜ Altruism with Ray Peat [P7l_jy6fhtw].mp3-transcript.txt  \n",
            "  inflating: data/oral-progesterone-is-not-inactivated-by-stomach-acids-pancreatic-enzymes-or-liver-detoxification.txt  \n",
            "  inflating: data/carbon-monoxide-stress-and-cancer-1999-status.txt  \n",
            "  inflating: data/2006 - November.txt  \n",
            "  inflating: data/04.29.19 Ray Peat Live, April 29, 2019 [613401165].mp3-transcript.txt  \n",
            "  inflating: __MACOSX/data/._04.29.19 Ray Peat Live, April 29, 2019 [613401165].mp3-transcript.txt  \n",
            "  inflating: data/#67： Weaponized Art and Language ｜ Iron Overload ｜ Ant Physiology ｜ PTH ｜ Lactic Acid with Ray Peat [m0jvY2m6h28].mp3-transcript.txt  \n",
            "  inflating: __MACOSX/data/._#67： Weaponized Art and Language ｜ Iron Overload ｜ Ant Physiology ｜ PTH ｜ Lactic Acid with Ray Peat [m0jvY2m6h28].mp3-transcript.txt  \n",
            "  inflating: data/rosacea-rhynophyma-pterygium-riboflavin-and-varicose-veins.txt  \n",
            "  inflating: data/kmud-150717-on-the-back-of-a-tiger.mp3-transcript.txt  \n",
            "  inflating: __MACOSX/data/._kmud-150717-on-the-back-of-a-tiger.mp3-transcript.txt  \n",
            "  inflating: data/intelligence-and-metabolism.html  \n",
            "  inflating: data/Glucose and sucrose for diabetes.txt  \n",
            "  inflating: data/epilepsy-and-progesterone.html  \n",
            "  inflating: data/kmud-101015-sugar-2.mp3-transcript.txt  \n",
            "  inflating: __MACOSX/data/._kmud-101015-sugar-2.mp3-transcript.txt  \n",
            "  inflating: data/kmud-171020-economics.mp3-transcript.txt  \n",
            "  inflating: __MACOSX/data/._kmud-171020-economics.mp3-transcript.txt  \n",
            "  inflating: data/postpartum-prementstrual-and-seasonal-seotonin-soaks.txt  \n",
            "  inflating: data/ray-peat-email-advice-depository.md  \n",
            "  inflating: data/.DS_Store          \n",
            "  inflating: __MACOSX/data/._.DS_Store  \n",
            "  inflating: data/kmud-111216-water-retention-salt.mp3-transcript.txt  \n",
            "  inflating: __MACOSX/data/._kmud-111216-water-retention-salt.mp3-transcript.txt  \n",
            "  inflating: data/1999 - April.txt   \n",
            "  inflating: data/kmud-200221-frequencies-vibrations-2.mp3-transcript.txt  \n",
            "  inflating: __MACOSX/data/._kmud-200221-frequencies-vibrations-2.mp3-transcript.txt  \n",
            "  inflating: data/kmud-120720-blood-pressure-regulation-heart-failure-muscle-atrophy.mp3-transcript.txt  \n",
            "  inflating: __MACOSX/data/._kmud-120720-blood-pressure-regulation-heart-failure-muscle-atrophy.mp3-transcript.txt  \n",
            "  inflating: data/polsci-120207-progesterone-3.mp3-transcript.txt  \n",
            "  inflating: __MACOSX/data/._polsci-120207-progesterone-3.mp3-transcript.txt  \n",
            "  inflating: data/1991 - June- Townsend Letter for Doctors.txt  \n",
            "  inflating: data/#36： CO2 and Mineral Balance ｜ Thyroid ｜ Magnesium ｜ Calcium in Health and Disease ｜ Current Events [74oLBrVddFs].mp3-transcript.txt  \n",
            "  inflating: __MACOSX/data/._#36： CO2 and Mineral Balance ｜ Thyroid ｜ Magnesium ｜ Calcium in Health and Disease ｜ Current Events [74oLBrVddFs].mp3-transcript.txt  \n",
            "  inflating: data/Email exchanges with Ray Peat - Ray Peat Q&A.html  \n",
            "  inflating: __MACOSX/data/._Email exchanges with Ray Peat - Ray Peat Q&A.html  \n",
            "  inflating: data/glucose-and-sucrose-for-diabetes.html  \n",
            "  inflating: data/kmud-191115-tryptophan.mp3-transcript.txt  \n",
            "  inflating: __MACOSX/data/._kmud-191115-tryptophan.mp3-transcript.txt  \n",
            "  inflating: data/02.19.19 Ray Peat on Healing The Body, February 19, 2019 [578138142].mp3-transcript.txt  \n",
            "  inflating: __MACOSX/data/._02.19.19 Ray Peat on Healing The Body, February 19, 2019 [578138142].mp3-transcript.txt  \n",
            "  inflating: data/rainmaking-110704-life-supporting-substances.mp3-transcript.txt  \n",
            "  inflating: __MACOSX/data/._rainmaking-110704-life-supporting-substances.mp3-transcript.txt  \n",
            "  inflating: data/1992 - June - Townsend Letter for Doctors.txt  \n",
            "  inflating: data/12.21.20 Peat Ray [951954235].mp3-transcript.txt  \n",
            "  inflating: __MACOSX/data/._12.21.20 Peat Ray [951954235].mp3-transcript.txt  \n",
            "  inflating: data/polsci-120518-autoimmune-and-movement.mp3-transcript.txt  \n",
            "  inflating: __MACOSX/data/._polsci-120518-autoimmune-and-movement.mp3-transcript.txt  \n",
            "  inflating: data/kmud-150619-continuing-research-on-urea.mp3-transcript.txt  \n",
            "  inflating: __MACOSX/data/._kmud-150619-continuing-research-on-urea.mp3-transcript.txt  \n",
            "  inflating: data/salt-energy-metabolic-rate-and-longevity.html  \n",
            "  inflating: data/progesterone-deceptions.html  \n",
            "  inflating: data/estrogen-and-brain-aging-in-men-and-women-depression-energy-stress.html  \n",
            "  inflating: data/#85： Protein Restriction ｜ Lidocaine for Hair Loss？ ｜ Brain Size, Intelligence _ Symptom Recognition [zZCgpw6_sRA].mp3-transcript.txt  \n",
            "  inflating: __MACOSX/data/._#85： Protein Restriction ｜ Lidocaine for Hair Loss？ ｜ Brain Size, Intelligence _ Symptom Recognition [zZCgpw6_sRA].mp3-transcript.txt  \n",
            "  inflating: data/kmud-140919-field-biology.mp3-transcript.txt  \n",
            "  inflating: __MACOSX/data/._kmud-140919-field-biology.mp3-transcript.txt  \n",
            "  inflating: data/2001 - November.txt  \n",
            "  inflating: data/Carbon Dioxide, Redox Balance, and The Ketone Body Ratio with Ray Peat  [Generative Energy #26] [3AI46HYJ3ro].mp3-transcript.txt  \n",
            "  inflating: __MACOSX/data/._Carbon Dioxide, Redox Balance, and The Ketone Body Ratio with Ray Peat  [Generative Energy #26] [3AI46HYJ3ro].mp3-transcript.txt  \n",
            "  inflating: data/aging-estrogen-and-progesterone.html  \n",
            "  inflating: data/the-dark-side-of-stress-learned-helplnessness.html  \n",
            "  inflating: data/progesterone-can-be-taken-orally.txt  \n",
            "  inflating: data/fats-and-degeneration.html  \n",
            "  inflating: data/1996 - June - Townsend Letter for Doctors.txt  \n",
            "  inflating: data/kmud-190419-particles.mp3-transcript.txt  \n",
            "  inflating: __MACOSX/data/._kmud-190419-particles.mp3-transcript.txt  \n",
            "  inflating: data/03.16.20 What is a Virus Anyway, March 16, 2020 [777346411].mp3-transcript.txt  \n",
            "  inflating: __MACOSX/data/._03.16.20 What is a Virus Anyway, March 16, 2020 [777346411].mp3-transcript.txt  \n",
            "  inflating: data/sugar-issues.html  \n",
            "  inflating: data/#41： Body Temperature ｜ mRNA Vaccines ｜ Vernadsky_s Evolution ｜ The CIA_s Weaponized Culture [DchRbk3E-SI].mp3-transcript.txt  \n",
            "  inflating: __MACOSX/data/._#41： Body Temperature ｜ mRNA Vaccines ｜ Vernadsky_s Evolution ｜ The CIA_s Weaponized Culture [DchRbk3E-SI].mp3-transcript.txt  \n",
            "  inflating: data/orn-190124-fats-and-questions.mp3-transcript.txt  \n",
            "  inflating: __MACOSX/data/._orn-190124-fats-and-questions.mp3-transcript.txt  \n",
            "  inflating: data/estrogen-aging-radiation-migraine-and-energy.txt  \n",
            "  inflating: data/concerns-about-progesterone-cream-and-yam-extracts.txt  \n",
            "  inflating: data/preventing-and-treating-cancer-with-progesterone.html  \n",
            "  inflating: data/kmud-140321-how-to-restore-and-protect-nerves.mp3-transcript.txt  \n",
            "  inflating: __MACOSX/data/._kmud-140321-how-to-restore-and-protect-nerves.mp3-transcript.txt  \n",
            "  inflating: data/kmud-120921-phosphate-and-calcium-metabolism.mp3-transcript.txt  \n",
            "  inflating: __MACOSX/data/._kmud-120921-phosphate-and-calcium-metabolism.mp3-transcript.txt  \n",
            "  inflating: data/01.24.19 Ray Peat on Thryroid and More, January 24, 2019 [564150933].mp3-transcript.txt  \n",
            "  inflating: __MACOSX/data/._01.24.19 Ray Peat on Thryroid and More, January 24, 2019 [564150933].mp3-transcript.txt  \n",
            "  inflating: data/kmud-090801-you-are-what-you-eat.mp3-transcript.txt  \n",
            "  inflating: __MACOSX/data/._kmud-090801-you-are-what-you-eat.mp3-transcript.txt  \n",
            "  inflating: data/kmud-110916-sugar-myths.mp3-transcript.txt  \n",
            "  inflating: __MACOSX/data/._kmud-110916-sugar-myths.mp3-transcript.txt  \n",
            "  inflating: data/multiple-sclerosis-protein-fats-and-progesterone.html  \n",
            "  inflating: data/1996 - April - dupe - Townsend Letter for Doctors.txt  \n",
            "  inflating: data/2009 - November.txt  \n",
            "  inflating: data/kmud-101119-endotoxins.mp3-transcript.txt  \n",
            "  inflating: __MACOSX/data/._kmud-101119-endotoxins.mp3-transcript.txt  \n",
            "  inflating: data/kmud-180615-positive-thinking-sleep-repair.mp3-transcript.txt  \n",
            "  inflating: __MACOSX/data/._kmud-180615-positive-thinking-sleep-repair.mp3-transcript.txt  \n",
            "  inflating: data/08.16.21 Peat Ray [1107776674].mp3-transcript.txt  \n",
            "  inflating: __MACOSX/data/._08.16.21 Peat Ray [1107776674].mp3-transcript.txt  \n",
            "  inflating: data/03.02.21 Peat Ray [997481839].mp3-transcript.txt  \n",
            "  inflating: __MACOSX/data/._03.02.21 Peat Ray [997481839].mp3-transcript.txt  \n",
            "  inflating: data/05.18.20 Does Carona Virus exist as told to us, Ray Peat, May 18 2020 [823303075].mp3-transcript.txt  \n",
            "  inflating: __MACOSX/data/._05.18.20 Does Carona Virus exist as told to us, Ray Peat, May 18 2020 [823303075].mp3-transcript.txt  \n",
            "  inflating: data/coconut-oil.html   \n",
            "  inflating: data/2002 - July.txt    \n",
            "  inflating: data/kmud-130621-heart-2.mp3-transcript.txt  \n",
            "  inflating: __MACOSX/data/._kmud-130621-heart-2.mp3-transcript.txt  \n",
            "  inflating: data/kmud-131115-hashimotos.mp3-transcript.txt  \n",
            "  inflating: __MACOSX/data/._kmud-131115-hashimotos.mp3-transcript.txt  \n",
            "  inflating: data/recharging-the-system.txt  \n",
            "  inflating: data/ewh-110929-cholesterol-and-saturated-fats.mp3-transcript.txt  \n",
            "  inflating: __MACOSX/data/._ewh-110929-cholesterol-and-saturated-fats.mp3-transcript.txt  \n",
            "  inflating: data/2000 - February.txt  \n",
            "  inflating: data/kmud-141017-longevity.mp3-transcript.txt  \n",
            "  inflating: __MACOSX/data/._kmud-141017-longevity.mp3-transcript.txt  \n",
            "  inflating: data/#80： World War 3 ｜ Heavy Metals ｜ Progesterone for Hair Loss ｜ T3 to T4 Thyroid Ratio with Ray Peat [LDWVtsqEOF0].mp3-transcript.txt  \n",
            "  inflating: __MACOSX/data/._#80： World War 3 ｜ Heavy Metals ｜ Progesterone for Hair Loss ｜ T3 to T4 Thyroid Ratio with Ray Peat [LDWVtsqEOF0].mp3-transcript.txt  \n",
            "  inflating: data/2008 - March.txt   \n",
            "  inflating: data/kmud-140815-thinking-outside-the-box-new-cancer-treatments.mp3-transcript.txt  \n",
            "  inflating: __MACOSX/data/._kmud-140815-thinking-outside-the-box-new-cancer-treatments.mp3-transcript.txt  \n",
            "  inflating: data/ru486-cancer-estrogen-and-progesterone.html  \n",
            "  inflating: data/kmud-170120-the-precautionary-principle.mp3-transcript.txt  \n",
            "  inflating: __MACOSX/data/._kmud-170120-the-precautionary-principle.mp3-transcript.txt  \n",
            "  inflating: data/kmud-140117-questions-and-answers.mp3-transcript.txt  \n",
            "  inflating: __MACOSX/data/._kmud-140117-questions-and-answers.mp3-transcript.txt  \n",
            "  inflating: data/kmud-110617-serotonin-endotoxins-stress.mp3-transcript.txt  \n",
            "  inflating: __MACOSX/data/._kmud-110617-serotonin-endotoxins-stress.mp3-transcript.txt  \n",
            "  inflating: data/meat-physiology-stress-and-degenerative-physiology.html  \n",
            "  inflating: data/unsatured-oils-have-deleterious-effects.txt  \n",
            "  inflating: data/resveratrol-rate-of-living-co2-and-aging.txt  \n",
            "  inflating: data/1997 - Unknown.txt  \n",
            "  inflating: data/ewh-110427-glycemia-starch-and-sugar-in-context.mp3-transcript.txt  \n",
            "  inflating: __MACOSX/data/._ewh-110427-glycemia-starch-and-sugar-in-context.mp3-transcript.txt  \n",
            "  inflating: data/kmud-150515-california-sb-277-degradation-of-the-food-supply.mp3-transcript.txt  \n",
            "  inflating: __MACOSX/data/._kmud-150515-california-sb-277-degradation-of-the-food-supply.mp3-transcript.txt  \n",
            "  inflating: data/kmud-141121-nitric-oxide.mp3-transcript.txt  \n",
            "  inflating: __MACOSX/data/._kmud-141121-nitric-oxide.mp3-transcript.txt  \n",
            "  inflating: data/caffeine-a-vitamin-like-nutrient-or-adaptogen-questions-about-tea-and-coffee-cancer-and-other-degenerative-diseases-and-the-hormones.html  \n",
            "  inflating: data/kmud-190621-postpartum-depression.mp3-transcript.txt  \n",
            "  inflating: __MACOSX/data/._kmud-190621-postpartum-depression.mp3-transcript.txt  \n",
            "  inflating: data/1996 - April - Townsend Letter for Doctors.txt  \n",
            "  inflating: data/Darkness, Water, Osteoporosis.txt  \n",
            "  inflating: data/thought-and-energy-mood-and-metabolism.txt  \n",
            "  inflating: data/polsci-000102-origin-of-life.mp3-transcript.txt  \n",
            "  inflating: __MACOSX/data/._polsci-000102-origin-of-life.mp3-transcript.txt  \n",
            "  inflating: data/kmud-150220-uses-of-urea.mp3-transcript.txt  \n",
            "  inflating: __MACOSX/data/._kmud-150220-uses-of-urea.mp3-transcript.txt  \n",
            "  inflating: data/2010 - January.txt  \n",
            "  inflating: data/#74： Vaccine Shedding ｜ Progesterone and Thyroid ｜ Immunology, Ideology, and Power with Ray Peat [e-l-LGUi9aQ].mp3-transcript.txt  \n",
            "  inflating: __MACOSX/data/._#74： Vaccine Shedding ｜ Progesterone and Thyroid ｜ Immunology, Ideology, and Power with Ray Peat [e-l-LGUi9aQ].mp3-transcript.txt  \n",
            "  inflating: data/leakiness-aging-and-cancer.html  \n",
            "  inflating: data/kmud-130420-hormone-replacement-therapy.mp3-transcript.txt  \n",
            "  inflating: __MACOSX/data/._kmud-130420-hormone-replacement-therapy.mp3-transcript.txt  \n",
            "  inflating: data/2012 - September.txt  \n",
            "  inflating: data/kmud-160318-allergy.mp3-transcript.txt  \n",
            "  inflating: __MACOSX/data/._kmud-160318-allergy.mp3-transcript.txt  \n",
            "  inflating: data/polsci-150304-evolution.mp3-transcript.txt  \n",
            "  inflating: __MACOSX/data/._polsci-150304-evolution.mp3-transcript.txt  \n",
            "  inflating: data/ewh-111215-q-and-a-2.mp3-transcript.txt  \n",
            "  inflating: __MACOSX/data/._ewh-111215-q-and-a-2.mp3-transcript.txt  \n",
            "  inflating: data/estrogen-in-1990.txt  \n",
            "  inflating: __MACOSX/data/._estrogen-in-1990.txt  \n",
            "  inflating: data/kmud-090701-bowel-endotoxin.mp3-transcript.txt  \n",
            "  inflating: __MACOSX/data/._kmud-090701-bowel-endotoxin.mp3-transcript.txt  \n",
            "  inflating: data/kmud-080701-thyroid-and-polyunsaturated-fatty-acids.mp3-transcript.txt  \n",
            "  inflating: __MACOSX/data/._kmud-080701-thyroid-and-polyunsaturated-fatty-acids.mp3-transcript.txt  \n",
            "  inflating: data/regeneration-and-degeneration-types-of-inflammation-change-with-aging.html  \n",
            "  inflating: data/2001 - March.txt   \n",
            "  inflating: data/estriol-des-ddt-etc.html  \n",
            "  inflating: data/intuitive-knowledge-and-its-development.html  \n",
            "  inflating: data/1990 - February.March - Townsend Letter for Doctors.txt  \n",
            "  inflating: data/#78： CO2 ｜ Art and Science ｜ Supply Shortages ｜ Killer Austerity ｜ Authoritarianism with Ray Peat [72Zz0TbfBAg].mp3-transcript.txt  \n",
            "  inflating: __MACOSX/data/._#78： CO2 ｜ Art and Science ｜ Supply Shortages ｜ Killer Austerity ｜ Authoritarianism with Ray Peat [72Zz0TbfBAg].mp3-transcript.txt  \n",
            "  inflating: data/1989 - February.March - Townsend Letter for Doctors.txt  \n",
            "  inflating: __MACOSX/data/._1989 - February.March - Townsend Letter for Doctors.txt  \n",
            "  inflating: data/kmud-150821-longevity-and-nootropics.mp3-transcript.txt  \n",
            "  inflating: __MACOSX/data/._kmud-150821-longevity-and-nootropics.mp3-transcript.txt  \n",
            "  inflating: data/repairing-immunodeficiencies.txt  \n",
            "  inflating: data/aids-syphilis-treatments-and-ideas.txt  \n",
            "  inflating: data/solving-some-of-the-problems-of-aging.txt  \n",
            "  inflating: data/1995 - November - Townsend Letter for Doctors.txt  \n",
            "  inflating: data/1988 - January - Townsend Letter for Doctors.txt  \n",
            "  inflating: __MACOSX/data/._1988 - January - Townsend Letter for Doctors.txt  \n",
            "  inflating: data/2011 - November.txt  \n",
            "  inflating: data/1996 - August.September.txt  \n",
            "  inflating: data/kmud-130315-palpitations-and-cardiac-events.mp3-transcript.txt  \n",
            "  inflating: __MACOSX/data/._kmud-130315-palpitations-and-cardiac-events.mp3-transcript.txt  \n",
            "  inflating: data/ewh-110222-the-thryoid.mp3-transcript.txt  \n",
            "  inflating: __MACOSX/data/._ewh-110222-the-thryoid.mp3-transcript.txt  \n",
            "  inflating: data/#30： LSD, Serotonin, and Hallucinations ｜ PUFA and Lipofuscin ｜ Strategy of Tension ｜ William Blake [JOEqOd4ceGA].mp3-transcript.txt  \n",
            "  inflating: __MACOSX/data/._#30： LSD, Serotonin, and Hallucinations ｜ PUFA and Lipofuscin ｜ Strategy of Tension ｜ William Blake [JOEqOd4ceGA].mp3-transcript.txt  \n",
            "  inflating: data/#27： Thyroid Function _ Pulse Rate ｜ Weaponized Culture ｜ Finasteride as an ＂Insane Decision＂ [AOmIfzvasr0].mp3-transcript.txt  \n",
            "  inflating: __MACOSX/data/._#27： Thyroid Function _ Pulse Rate ｜ Weaponized Culture ｜ Finasteride as an ＂Insane Decision＂ [AOmIfzvasr0].mp3-transcript.txt  \n",
            "  inflating: data/endotoxin-stress-depression.txt  \n",
            "  inflating: data/the-gaba-system-defenses-and-tissue-renewal.txt  \n",
            "  inflating: __MACOSX/data/._the-gaba-system-defenses-and-tissue-renewal.txt  \n",
            "  inflating: data/#49 - Townsend Letter for Doctors.txt  \n",
            "  inflating: __MACOSX/data/._#49 - Townsend Letter for Doctors.txt  \n",
            "  inflating: data/eclampsia-in-the-real-organism-a-paradigm-of-general-distress-applicable-in-infants-adults-etc.html  \n",
            "  inflating: data/kmud-130719-heart-3.mp3-transcript.txt  \n",
            "  inflating: __MACOSX/data/._kmud-130719-heart-3.mp3-transcript.txt  \n",
            "  inflating: data/kmud-150320-breast-cancer.mp3-transcript.txt  \n",
            "  inflating: __MACOSX/data/._kmud-150320-breast-cancer.mp3-transcript.txt  \n",
            "  inflating: data/polsci-010102-suppression-of-cancer.mp3-transcript.txt  \n",
            "  inflating: __MACOSX/data/._polsci-010102-suppression-of-cancer.mp3-transcript.txt  \n",
            "  inflating: data/PHD Thesis.txt     \n",
            "  inflating: __MACOSX/data/._PHD Thesis.txt  \n",
            "  inflating: data/hot-flashes-energy-and-aging.html  \n",
            "  inflating: data/kmud-180817-critical-thinking-in-academia.mp3-transcript.txt  \n",
            "  inflating: __MACOSX/data/._kmud-180817-critical-thinking-in-academia.mp3-transcript.txt  \n",
            "  inflating: data/serotonin-effects-in-disease-aging-and-inflammation.html  \n",
            "  inflating: data/a-physiological-approach-to-ovarian-cancer.txt  \n",
            "  inflating: data/kmud-140718-vaccination-2.mp3-transcript.txt  \n",
            "  inflating: __MACOSX/data/._kmud-140718-vaccination-2.mp3-transcript.txt  \n",
            "  inflating: data/wp-121123-foundational-hormones.mp3-transcript.txt  \n",
            "  inflating: __MACOSX/data/._wp-121123-foundational-hormones.mp3-transcript.txt  \n",
            "  inflating: data/A Physiological Approach to Ovarian Cancer.txt  \n",
            "  inflating: data/2012 - May.txt     \n",
            "  inflating: data/the-transparency-of-life-cataracts-as-a-model-of-age-related-disease.html  \n",
            "  inflating: data/cocaine-babies-criminal-responsibility-and-medicine.txt  \n",
            "  inflating: data/thyroid-insomnia-and-the-insanities-commonalities-in-disease.html  \n",
            "  inflating: data/1991 - April - Townsend Letter for Doctors.txt  \n",
            "  inflating: data/immunodeficiency-dioxins-stress-and-the-hormones.html  \n",
            "  inflating: data/irons-dangers.html  \n",
            "  inflating: data/10.19.20 Peat Ray [915101332].mp3-transcript.txt  \n",
            "  inflating: __MACOSX/data/._10.19.20 Peat Ray [915101332].mp3-transcript.txt  \n",
            "  inflating: data/2003 - September.txt  \n",
            "  inflating: data/kmud-110415-fukujima-and-serotonin.mp3-transcript.txt  \n",
            "  inflating: __MACOSX/data/._kmud-110415-fukujima-and-serotonin.mp3-transcript.txt  \n",
            "  inflating: data/polsci-200318-coronavirus-immunity-vaccines-part1.mp3-transcript.txt  \n",
            "  inflating: __MACOSX/data/._polsci-200318-coronavirus-immunity-vaccines-part1.mp3-transcript.txt  \n",
            "  inflating: data/ewh-110118-inflammation.mp3-transcript.txt  \n",
            "  inflating: __MACOSX/data/._ewh-110118-inflammation.mp3-transcript.txt  \n",
            "  inflating: data/kmud-170519-endocrinology-part3.mp3-transcript.txt  \n",
            "  inflating: __MACOSX/data/._kmud-170519-endocrinology-part3.mp3-transcript.txt  \n",
            "  inflating: data/2006 - May.txt     \n",
            "  inflating: data/lungs-shock-inflammation-and-aging.txt  \n",
            "  inflating: data/2011 - July.txt    \n",
            "  inflating: data/Mind And Tissue Ray Peat .txt  \n",
            "  inflating: data/growth-hormone-hormone-of-stress-aging-and-death.html  \n",
            "  inflating: data/jf-190601-cortisol-low-testosterone.mp3-transcript.txt  \n",
            "  inflating: __MACOSX/data/._jf-190601-cortisol-low-testosterone.mp3-transcript.txt  \n",
            "  inflating: data/kmud-190719-herbalist-sophie-lamb.mp3-transcript.txt  \n",
            "  inflating: __MACOSX/data/._kmud-190719-herbalist-sophie-lamb.mp3-transcript.txt  \n",
            "  inflating: data/tissue-firmness-and-elasticity-and-rothens-resonance.txt  \n",
            "  inflating: data/Calcium, Phosphate, Authoritarianism, Eugenics _ CIA Spymaster Allen Dulles with Ray Peat [GE #34] [qA9YrebN5zY].mp3-transcript.txt  \n",
            "  inflating: __MACOSX/data/._Calcium, Phosphate, Authoritarianism, Eugenics _ CIA Spymaster Allen Dulles with Ray Peat [GE #34] [qA9YrebN5zY].mp3-transcript.txt  \n",
            "  inflating: data/kmud-160219-iodine-supplement-reactions-hormones.mp3-transcript.txt  \n",
            "  inflating: __MACOSX/data/._kmud-160219-iodine-supplement-reactions-hormones.mp3-transcript.txt  \n",
            "  inflating: data/emprise-should-evaluate-conventional-and-alternative-treatments-comparatively.txt  \n",
            "  inflating: data/breast-cancer.html  \n",
            "  inflating: data/kmud-181116-skin-cancer.mp3-transcript.txt  \n",
            "  inflating: __MACOSX/data/._kmud-181116-skin-cancer.mp3-transcript.txt  \n",
            "  inflating: data/01.17.22 Peat Ray [1198355269].mp3-transcript.txt  \n",
            "  inflating: __MACOSX/data/._01.17.22 Peat Ray [1198355269].mp3-transcript.txt  \n",
            "  inflating: data/autoimmunity-by-ray-peat.txt  \n",
            "  inflating: data/#19： Philosophy and Physiology ｜ Metabolism and Consciousness ｜ Deep Politics ｜ Ray Peat [PF27zr95Lhg].mp3-transcript.txt  \n",
            "  inflating: __MACOSX/data/._#19： Philosophy and Physiology ｜ Metabolism and Consciousness ｜ Deep Politics ｜ Ray Peat [PF27zr95Lhg].mp3-transcript.txt  \n",
            "  inflating: data/2005 - November.txt  \n",
            "  inflating: data/2010 - November.txt  \n",
            "  inflating: data/09.21.21 Peat Ray [1128846532].mp3-transcript.txt  \n",
            "  inflating: __MACOSX/data/._09.21.21 Peat Ray [1128846532].mp3-transcript.txt  \n",
            "  inflating: data/kmud-091001-food-additives.mp3-transcript.txt  \n",
            "  inflating: __MACOSX/data/._kmud-091001-food-additives.mp3-transcript.txt  \n",
            "  inflating: data/11.15.21 Peat Ray [1160757235].mp3-transcript.txt  \n",
            "  inflating: __MACOSX/data/._11.15.21 Peat Ray [1160757235].mp3-transcript.txt  \n",
            "  inflating: data/kmud-161216-food.mp3-transcript.txt  \n",
            "  inflating: __MACOSX/data/._kmud-161216-food.mp3-transcript.txt  \n",
            "  inflating: data/the-generality-of-adaptogens-by-ray-peat.txt  \n",
            "  inflating: data/polsci-090420-radiation-1.mp3-transcript.txt  \n",
            "  inflating: __MACOSX/data/._polsci-090420-radiation-1.mp3-transcript.txt  \n",
            "  inflating: data/kmud-120817-hot-flashes-night-sweats-relationship-to-stress-aging-p-m-sand-sugar-metabolism.mp3-transcript.txt  \n",
            "  inflating: __MACOSX/data/._kmud-120817-hot-flashes-night-sweats-relationship-to-stress-aging-p-m-sand-sugar-metabolism.mp3-transcript.txt  \n",
            "  inflating: data/kmud-110819-milk.mp3-transcript.txt  \n",
            "  inflating: __MACOSX/data/._kmud-110819-milk.mp3-transcript.txt  \n",
            "  inflating: data/kmud-180316-progesterone-vs-estrogen-listener-questions.mp3-transcript.txt  \n",
            "  inflating: __MACOSX/data/._kmud-180316-progesterone-vs-estrogen-listener-questions.mp3-transcript.txt  \n",
            "  inflating: data/The Generality of Adaptogens.txt  \n",
            "  inflating: data/mortality-again.txt  \n",
            "  inflating: data/2000 - January.txt  \n",
            "  inflating: data/Szent-Gyorgyi's Energy - 1989 September.txt  \n",
            "  inflating: data/natural-estrogens.html  \n",
            "  inflating: data/the-cancer-matrix.html  \n",
            "  inflating: data/mitochondria-and-mortality.html  \n",
            "  inflating: data/kmud-171215-diagnosis.mp3-transcript.txt  \n",
            "  inflating: __MACOSX/data/._kmud-171215-diagnosis.mp3-transcript.txt  \n",
            "  inflating: data/1995 - August.September - Townsend Letter for Doctors.txt  \n",
            "  inflating: data/estrogen-calcium-heavy-metals-and-nerve-degeneration.txt  \n",
            "  inflating: data/kmud-140620-vaccination.mp3-transcript.txt  \n",
            "  inflating: __MACOSX/data/._kmud-140620-vaccination.mp3-transcript.txt  \n",
            "  inflating: data/the-bean-syndrome.txt  \n",
            "  inflating: data/progesterone-pregnenolone-and-dhea-three-youth-associated-hormones.html  \n",
            "  inflating: data/response-to-recent-pop-medicine-articles-on-progesterone-therapy.txt  \n",
            "  inflating: data/fibrosis-by-ray-peat.txt  \n",
            "  inflating: data/kmud-141219-you-are-what-you-eat.mp3-transcript.txt  \n",
            "  inflating: __MACOSX/data/._kmud-141219-you-are-what-you-eat.mp3-transcript.txt  \n",
            "  inflating: data/suitable-fats-unsuitable-fats-issues-in-nutrition.html  \n",
            "  inflating: data/implications-of-inflammation.txt  \n",
            "  inflating: data/2000 - July.txt    \n",
            "  inflating: data/2013 - January.txt  \n",
            "  inflating: data/gelatin-stress-longevity.html  \n",
            "  inflating: data/aging-ovaries-not-the-eggs.txt  \n",
            "  inflating: data/when-energy-fails-edema-heart-failure-hypertension-sarcopenia-etc.html  \n",
            "  inflating: data/1995 - September.txt  \n",
            "  inflating: data/2011 - March.txt   \n",
            "  inflating: data/09.21.20 The True Natrue of a Virus, September 21, 2020 [897179593].mp3-transcript.txt  \n",
            "  inflating: __MACOSX/data/._09.21.20 The True Natrue of a Virus, September 21, 2020 [897179593].mp3-transcript.txt  \n",
            "  inflating: data/Taxol, Yew & Cancer - March 1992.txt  \n",
            "  inflating: data/cancer-disorder-and-energy.html  \n",
            "  inflating: data/kmud-181221-skin-cancer-2.mp3-transcript.txt  \n",
            "  inflating: __MACOSX/data/._kmud-181221-skin-cancer-2.mp3-transcript.txt  \n",
            "  inflating: data/2001 - February.txt  \n",
            "  inflating: data/Thyroid Deficiency & Common Health Problems – 180 Degree Health.html  \n",
            "  inflating: __MACOSX/data/._Thyroid Deficiency & Common Health Problems – 180 Degree Health.html  \n",
            "  inflating: data/natural-immunity-and-viral-infections.txt  \n",
            "  inflating: data/inhibition-and-vitality.txt  \n",
            "  inflating: data/immunity-hormones-and-yeast-infections.txt  \n",
            "  inflating: data/generative-energy-restoring-the-wholeness-of-life-by-ray-peat.txt  \n",
            "  inflating: data/(2005-10) Ray Peat - Nervous System Protect _ Restore [mdLHWFJI2y0].mp3-transcript.txt  \n",
            "  inflating: __MACOSX/data/._(2005-10) Ray Peat - Nervous System Protect _ Restore [mdLHWFJI2y0].mp3-transcript.txt  \n",
            "  inflating: data/1992 - December - Townsend Letter for Doctors.txt  \n",
            "  inflating: data/2002 - November.txt  \n",
            "  inflating: data/Dr. Ray Peat, Day Two： Full Interview from On the Back of a Tiger [Z3yVUELD2ZA].mp3-transcript.txt  \n",
            "  inflating: __MACOSX/data/._Dr. Ray Peat, Day Two： Full Interview from On the Back of a Tiger [Z3yVUELD2ZA].mp3-transcript.txt  \n",
            "  inflating: data/#32： Hormonal Imprinting ｜ Fake History ｜ Aristotelian Philosophy ｜ Marx, Lenin, Stalin, and Lysenko [famOF8GYlbg].mp3-transcript.txt  \n",
            "  inflating: __MACOSX/data/._#32： Hormonal Imprinting ｜ Fake History ｜ Aristotelian Philosophy ｜ Marx, Lenin, Stalin, and Lysenko [famOF8GYlbg].mp3-transcript.txt  \n",
            "  inflating: data/blp-190722-a-casual-conversation-with-ray-peat.mp3-transcript.txt  \n",
            "  inflating: __MACOSX/data/._blp-190722-a-casual-conversation-with-ray-peat.mp3-transcript.txt  \n",
            "  inflating: data/abnormal-cells-in-the-uterine-cervix.txt  \n",
            "  inflating: data/fatigue-aging-and-recuperation.html  \n",
            "  inflating: data/thyroid-misconceptions.txt  \n",
            "  inflating: data/2012 - July.txt    \n",
            "  inflating: data/a-holistic-physiology-of-memory.html  \n",
            "  inflating: __MACOSX/data/._a-holistic-physiology-of-memory.html  \n",
            "  inflating: data/origins-of-progesterone-therapy.txt  \n",
            "  inflating: data/Episode One Supplemental： Dr. Ray Peat [H0oWFJFO1gU].mp3-transcript.txt  \n",
            "  inflating: __MACOSX/data/._Episode One Supplemental： Dr. Ray Peat [H0oWFJFO1gU].mp3-transcript.txt  \n",
            "  inflating: data/blp-200219-fertility-pregnancy-development.mp3-transcript.txt  \n",
            "  inflating: __MACOSX/data/._blp-200219-fertility-pregnancy-development.mp3-transcript.txt  \n",
            "  inflating: data/2010 - September.txt  \n",
            "  inflating: data/From PMS to Menopause.txt  \n",
            "  inflating: data/2000 - April.txt   \n",
            "  inflating: data/voiceofamerica-130909-water.mp3-transcript.txt  \n",
            "  inflating: __MACOSX/data/._voiceofamerica-130909-water.mp3-transcript.txt  \n",
            "  inflating: data/orn-190917-mr-thyroid.mp3-transcript.txt  \n",
            "  inflating: __MACOSX/data/._orn-190917-mr-thyroid.mp3-transcript.txt  \n",
            "  inflating: data/2009 - September.txt  \n",
            "  inflating: data/kmud-090901-the-ten-most-toxic-things-in-our-food.mp3-transcript.txt  \n",
            "  inflating: __MACOSX/data/._kmud-090901-the-ten-most-toxic-things-in-our-food.mp3-transcript.txt  \n",
            "  inflating: data/adaptive-substance-creative-regeneration-mainstream-science-repression-and-creativity.html  \n",
            "  inflating: data/1990 - August.September - Townsend Letter for Doctors.txt  \n",
            "  inflating: data/11.19.19 Hormones, Thyroid and Much much more, November 19, 2019 [715603975].mp3-transcript.txt  \n",
            "  inflating: __MACOSX/data/._11.19.19 Hormones, Thyroid and Much much more, November 19, 2019 [715603975].mp3-transcript.txt  \n",
            "  inflating: data/estrogen-progesterone-and-cancer-conflicts-of-interest-in-regulation-and-product-promotion.html  \n",
            "  inflating: data/contexts-for-asthma.txt  \n",
            "  inflating: data/polsci-200324-coronavirus-immunity-vaccines-part2.mp3-transcript.txt  \n",
            "  inflating: __MACOSX/data/._polsci-200324-coronavirus-immunity-vaccines-part2.mp3-transcript.txt  \n",
            "  inflating: data/sharks-salmon-and-osmotic-therapies.txt  \n",
            "  inflating: data/polsci-120222-fundraiser-1.mp3-transcript.txt  \n",
            "  inflating: __MACOSX/data/._polsci-120222-fundraiser-1.mp3-transcript.txt  \n",
            "  inflating: data/polsci-150311-biochemical-health.mp3-transcript.txt  \n",
            "  inflating: __MACOSX/data/._polsci-150311-biochemical-health.mp3-transcript.txt  \n",
            "  inflating: data/blocking-tissue-destruction.html  \n",
            "  inflating: data/Moles, DHEA, Etc..txt  \n",
            "  inflating: data/protective-co2-and-aging.html  \n",
            "  inflating: data/thyroiditis-some-confusions-and-causes-of-autoimmune-diseases.txt  \n",
            "  inflating: data/education-as-advertised-in-napoleonic-times.html  \n",
            "  inflating: data/kmud-111118-energy-production-diabetes-saturated-fats.mp3-transcript.txt  \n",
            "  inflating: __MACOSX/data/._kmud-111118-energy-production-diabetes-saturated-fats.mp3-transcript.txt  \n",
            "  inflating: data/2003 - March.txt   \n",
            "  inflating: data/osteoporosis-harmful-calcification-and-nerve-muscle-malfunctions.html  \n",
            "  inflating: data/kmud-151218-nitric-oxide-nitrates-nitrites-fluoride.mp3-transcript.txt  \n",
            "  inflating: __MACOSX/data/._kmud-151218-nitric-oxide-nitrates-nitrites-fluoride.mp3-transcript.txt  \n",
            "  inflating: data/2005 - January.txt  \n",
            "  inflating: data/1994 - Nobember - dupe - Townsend Letter for Doctors.txt  \n",
            "  inflating: data/unsaturated-vegetable-oils-toxic.html  \n",
            "  inflating: data/1989 - November - Townsend Letter for Doctors.txt  \n",
            "  inflating: data/1995 - February.March - Townsend Letter for Doctors.txt  \n",
            "  inflating: data/2012 - January.txt  \n",
            "  inflating: data/Asthma and Metabisulfite - More Letters to the Editor.txt  \n",
            "  inflating: data/#24： Immunity and Scientism ｜ Pandemic Hobbyists ｜ Eugenics Philanthropy ｜ Killer Austerity [QxsdHJuvyck].mp3-transcript.txt  \n",
            "  inflating: __MACOSX/data/._#24： Immunity and Scientism ｜ Pandemic Hobbyists ｜ Eugenics Philanthropy ｜ Killer Austerity [QxsdHJuvyck].mp3-transcript.txt  \n",
            "  inflating: data/kmud-130517-heart-1.mp3-transcript.txt  \n",
            "  inflating: __MACOSX/data/._kmud-130517-heart-1.mp3-transcript.txt  \n",
            "  inflating: data/yohaf-961112-thyroid-progesterone-and-diet.mp3-transcript.txt  \n",
            "  inflating: __MACOSX/data/._yohaf-961112-thyroid-progesterone-and-diet.mp3-transcript.txt  \n",
            "  inflating: data/kmud-111021-sugar-myths-2.mp3-transcript.txt  \n",
            "  inflating: __MACOSX/data/._kmud-111021-sugar-myths-2.mp3-transcript.txt  \n",
            "  inflating: data/kmud-120217-cancer-treatment.mp3-transcript.txt  \n",
            "  inflating: __MACOSX/data/._kmud-120217-cancer-treatment.mp3-transcript.txt  \n",
            "  inflating: data/orn-140101-nutrition-2.mp3-transcript.txt  \n",
            "  inflating: __MACOSX/data/._orn-140101-nutrition-2.mp3-transcript.txt  \n",
            "  inflating: data/kmud-130215-weight-gain.mp3-transcript.txt  \n",
            "  inflating: __MACOSX/data/._kmud-130215-weight-gain.mp3-transcript.txt  \n",
            "  inflating: data/kmud-130118-carbon-monoxide.mp3-transcript.txt  \n",
            "  inflating: __MACOSX/data/._kmud-130118-carbon-monoxide.mp3-transcript.txt  \n",
            "  inflating: data/2003 - July.txt    \n",
            "  inflating: data/moles-dhea-etc.txt  \n",
            "  inflating: data/glycemia-starch-and-sugar-in-context.html  \n",
            "  inflating: data/polsci-130220-questions-and-answers.mp3-transcript.txt  \n",
            "  inflating: __MACOSX/data/._polsci-130220-questions-and-answers.mp3-transcript.txt  \n",
            "  inflating: data/kmud-200117-frequencies-vibrations.mp3-transcript.txt  \n",
            "  inflating: __MACOSX/data/._kmud-200117-frequencies-vibrations.mp3-transcript.txt  \n",
            "  inflating: data/#61： Bodybuilding and Steroids ｜ Progesterone for Men？ ｜ Basic Bioenergetic Therapies with Ray Peat [3fVx5yk73t4].mp3-transcript.txt  \n",
            "  inflating: __MACOSX/data/._#61： Bodybuilding and Steroids ｜ Progesterone for Men？ ｜ Basic Bioenergetic Therapies with Ray Peat [3fVx5yk73t4].mp3-transcript.txt  \n",
            "  inflating: data/03.23.22 Peat Ray [1237616035].mp3-transcript.txt  \n",
            "  inflating: __MACOSX/data/._03.23.22 Peat Ray [1237616035].mp3-transcript.txt  \n",
            "  inflating: data/critiquing-dr-mcdaniel-responds-letter.txt  \n",
            "  inflating: data/supplement-safety.txt  \n",
            "  inflating: data/2001 - January.txt  \n",
            "  inflating: data/1992 - August.September - Townsend Letter for Doctors.txt  \n",
            "  inflating: data/serotonin-depression-and-aggression-the-problem-of-brain-energy.html  \n",
            "  inflating: data/transdermal-progesterone-for-premenstrual-syndrome.txt  \n",
            "  inflating: data/polsci-080911-thyroid-and-regeneration.mp3-transcript.txt  \n",
            "  inflating: __MACOSX/data/._polsci-080911-thyroid-and-regeneration.mp3-transcript.txt  \n",
            "  inflating: data/#55： Bioenergetic Nutrition Basics ｜ ＂The Ray Peat Diet＂ ｜ Appetite and Metabolism with Ray Peat [f06rVi8iXfI].mp3-transcript.txt  \n",
            "  inflating: __MACOSX/data/._#55： Bioenergetic Nutrition Basics ｜ ＂The Ray Peat Diet＂ ｜ Appetite and Metabolism with Ray Peat [f06rVi8iXfI].mp3-transcript.txt  \n",
            "  inflating: data/kmud-110121-inflammation-1.mp3-transcript.txt  \n",
            "  inflating: __MACOSX/data/._kmud-110121-inflammation-1.mp3-transcript.txt  \n",
            "  inflating: data/kmud-160916-antioxidant-theory-and-continued-war-on-cancer.mp3-transcript.txt  \n",
            "  inflating: __MACOSX/data/._kmud-160916-antioxidant-theory-and-continued-war-on-cancer.mp3-transcript.txt  \n",
            "  inflating: data/progesterone-not-estrogen-is-the-coronary-protection-factor-of-women.html  \n",
            "  inflating: data/2006 - March.txt   \n",
            "  inflating: data/orn-140101-nutrition-1.mp3-transcript.txt  \n",
            "  inflating: __MACOSX/data/._orn-140101-nutrition-1.mp3-transcript.txt  \n",
            "  inflating: data/1986 - February.txt  \n",
            "  inflating: data/kmud-161021-rheumatoid-arthritis.mp3-transcript.txt  \n",
            "  inflating: __MACOSX/data/._kmud-161021-rheumatoid-arthritis.mp3-transcript.txt  \n",
            "  inflating: data/criticism-and-the-experts.txt  \n",
            "  inflating: data/cataracts-water-energy-light-and-aging.html  \n",
            "  inflating: data/ewh-110825-serotonin-and-endotoxin.mp3-transcript.txt  \n",
            "  inflating: __MACOSX/data/._ewh-110825-serotonin-and-endotoxin.mp3-transcript.txt  \n",
            "  inflating: data/2006 - January.txt  \n",
            "  inflating: data/garynull-960101-thyroid-function-npr-thyroid-interview.mp3-transcript.txt  \n",
            "  inflating: __MACOSX/data/._garynull-960101-thyroid-function-npr-thyroid-interview.mp3-transcript.txt  \n",
            "  inflating: data/kmud-190920-education-reeducation.mp3-transcript.txt  \n",
            "  inflating: __MACOSX/data/._kmud-190920-education-reeducation.mp3-transcript.txt  \n",
            "  inflating: data/peptides-coherent-adaption-and-some-terminal-diseases.txt  \n",
            "  inflating: data/Multiple Sclerosis & Other Hormone-Related Brain Syndromes.txt  \n",
            "  inflating: data/chronic-fatigue-by-ray-peat.txt  \n",
            "  inflating: data/kmud-170721-language-criticism-estrogen-part2.mp3-transcript.txt  \n",
            "  inflating: __MACOSX/data/._kmud-170721-language-criticism-estrogen-part2.mp3-transcript.txt  \n",
            "  inflating: data/1996 - June - Concerns About Progesterone Cream and Yam Extracts.txt  \n",
            "  inflating: data/kmud-160115-water-quality-atmospheric-co2-climate-change.mp3-transcript.txt  \n",
            "  inflating: __MACOSX/data/._kmud-160115-water-quality-atmospheric-co2-climate-change.mp3-transcript.txt  \n",
            "  inflating: data/10.18.21 Peat Ray [1144025140].mp3-transcript.txt  \n",
            "  inflating: __MACOSX/data/._10.18.21 Peat Ray [1144025140].mp3-transcript.txt  \n",
            "  inflating: data/jf-191112-listener-qa.mp3-transcript.txt  \n",
            "  inflating: __MACOSX/data/._jf-191112-listener-qa.mp3-transcript.txt  \n",
            "  inflating: data/polsci-120222-fundraiser-2.mp3-transcript.txt  \n",
            "  inflating: __MACOSX/data/._polsci-120222-fundraiser-2.mp3-transcript.txt  \n",
            "  inflating: data/physiology-texts-and-the-real-world.html  \n",
            "  inflating: data/cholesterol-longevity-intelligence-and-health.html  \n",
            "  inflating: data/01.20.20 Ray Peat Honest and Uncensored, January 20, 2020 [746757790].mp3-transcript.txt  \n",
            "  inflating: __MACOSX/data/._01.20.20 Ray Peat Honest and Uncensored, January 20, 2020 [746757790].mp3-transcript.txt  \n",
            "  inflating: data/szent-gyorgyis-energy.txt  \n",
            "  inflating: data/2000 - June - Townsend Letter for Doctors.txt  \n",
            "  inflating: data/2001 - September.txt  \n",
            "  inflating: data/steroids-thyroid-by-ray-peat.txt  \n",
            "  inflating: data/2011 - May.txt     \n",
            "  inflating: data/brain-aging-by-ray-peat.txt  \n",
            "  inflating: data/kmud-080801-thyroid-metabolism-and-coconut-oil.mp3-transcript.txt  \n",
            "  inflating: __MACOSX/data/._kmud-080801-thyroid-metabolism-and-coconut-oil.mp3-transcript.txt  \n",
            "  inflating: data/jf-190910-how-to-fix-your-digestion-poop.mp3-transcript.txt  \n",
            "  inflating: __MACOSX/data/._jf-190910-how-to-fix-your-digestion-poop.mp3-transcript.txt  \n",
            "  inflating: data/1999 - December.txt  \n",
            "  inflating: data/2006 - July.txt    \n",
            "  inflating: data/02.21.22 Peat Ray [1220230201].mp3-transcript.txt  \n",
            "  inflating: __MACOSX/data/._02.21.22 Peat Ray [1220230201].mp3-transcript.txt  \n",
            "  inflating: data/11.16.20 Peat Ray [930557059].mp3-transcript.txt  \n",
            "  inflating: __MACOSX/data/._11.16.20 Peat Ray [930557059].mp3-transcript.txt  \n",
            "  inflating: data/kmud-170421-endocrinology-part2.mp3-transcript.txt  \n",
            "  inflating: __MACOSX/data/._kmud-170421-endocrinology-part2.mp3-transcript.txt  \n",
            "  inflating: data/kmud-110218-inflammation-2.mp3-transcript.txt  \n",
            "  inflating: __MACOSX/data/._kmud-110218-inflammation-2.mp3-transcript.txt  \n",
            "  inflating: data/Dr Ray Peat Q_A ｜ PUFAS, fructose, weight loss, PCOS, hormones, cholesterol, _ more [96AFY50-J4A].mp3-transcript.txt  \n",
            "  inflating: __MACOSX/data/._Dr Ray Peat Q_A ｜ PUFAS, fructose, weight loss, PCOS, hormones, cholesterol, _ more [96AFY50-J4A].mp3-transcript.txt  \n",
            "  inflating: data/aspirin-brain-and-cancer.html  \n",
            "  inflating: data/#38： In Defense of Mexican Coke ｜ The Authoritarian Metabolism ｜ Symbols of an Alien Sky ｜ Astrology [LKsogI7Hu9E].mp3-transcript.txt  \n",
            "  inflating: __MACOSX/data/._#38： In Defense of Mexican Coke ｜ The Authoritarian Metabolism ｜ Symbols of an Alien Sky ｜ Astrology [LKsogI7Hu9E].mp3-transcript.txt  \n",
            "  inflating: data/kmud-110715-hair-loss-inflammation-osteoporosis.mp3-transcript.txt  \n",
            "  inflating: __MACOSX/data/._kmud-110715-hair-loss-inflammation-osteoporosis.mp3-transcript.txt  \n",
            "  inflating: data/the-edema-of-stress.txt  \n",
            "  inflating: data/aging-eyes-infant-eyes-and-excitable-tissues.html  \n",
            "  inflating: data/ewh-110315-estrogen-vs-progesterone.mp3-transcript.txt  \n",
            "  inflating: __MACOSX/data/._ewh-110315-estrogen-vs-progesterone.mp3-transcript.txt  \n",
            "  inflating: data/rosacea-inflammation-and-aging-the-inefficiency-of-stress.html  \n",
            "  inflating: data/The Edema of Stress - 1989 May.txt  \n",
            "  inflating: data/homeostasis-and-aging.txt  \n",
            "  inflating: data/on-recycling-placentas-thyroid-suppression-and-carpal-tunnel.txt  \n",
            "  inflating: data/07.18.19 Deep Research in Healh, July 18, 2019 [653210912].mp3-transcript.txt  \n",
            "  inflating: __MACOSX/data/._07.18.19 Deep Research in Healh, July 18, 2019 [653210912].mp3-transcript.txt  \n",
            "  inflating: data/diagnosing-porphyria-for-labor-and-industries-claims.txt  \n",
            "  inflating: data/1991 - July - Townsend Letter for Doctors.txt  \n",
            "  inflating: data/2008 - May.txt     \n",
            "  inflating: data/polsci-101110-self-ordering-world.mp3-transcript.txt  \n",
            "  inflating: __MACOSX/data/._polsci-101110-self-ordering-world.mp3-transcript.txt  \n",
            "  inflating: data/genes-carbon-dioxide-and-adaptation.html  \n",
            "  inflating: data/polsci-100426-digestion.mp3-transcript.txt  \n",
            "  inflating: __MACOSX/data/._polsci-100426-digestion.mp3-transcript.txt  \n",
            "  inflating: data/#43： Body Temperature, Inflammation, and Aging ｜ Copper and Thyroid ｜ mRNA Vaccines and Infertility [bHKWkqrYqAY].mp3-transcript.txt  \n",
            "  inflating: __MACOSX/data/._#43： Body Temperature, Inflammation, and Aging ｜ Copper and Thyroid ｜ mRNA Vaccines and Infertility [bHKWkqrYqAY].mp3-transcript.txt  \n",
            "  inflating: data/rainmaking-140602-energy-protective-materials.mp3-transcript.txt  \n",
            "  inflating: __MACOSX/data/._rainmaking-140602-energy-protective-materials.mp3-transcript.txt  \n",
            "  inflating: data/1994 - November - Townsend Letter for Doctors.txt  \n",
            "  inflating: data/progesterone-content-corrected.txt  \n",
            "  inflating: data/2013 - March.txt   \n",
            "  inflating: data/The Bean Syndrome - Townsend Letter for Doctors.txt  \n",
            "  inflating: data/hayflickers-dolly-and-dandruff.txt  \n",
            "  inflating: data/biological-balance-and-addictions.txt  \n",
            "  inflating: data/bleeding-clotting-cancer.html  \n",
            "  inflating: data/The Origins of Authoritarianism with Ray Peat  [Generative Energy #28] [MBsFWsHgSCY].mp3-transcript.txt  \n",
            "  inflating: __MACOSX/data/._The Origins of Authoritarianism with Ray Peat  [Generative Energy #28] [MBsFWsHgSCY].mp3-transcript.txt  \n",
            "  inflating: data/vitamin-e-estrogen-antagonist-energy-promoter-and-anti-inflammatory.html  \n",
            "  inflating: data/estrogen-memory-and-heredity-imprinting-and-the-stress-response.html  \n",
            "  inflating: data/2010 - March.txt   \n",
            "  inflating: data/polsci-080721-fats.mp3-transcript.txt  \n",
            "  inflating: __MACOSX/data/._polsci-080721-fats.mp3-transcript.txt  \n",
            "  inflating: data/stem-cells-cell-culture-and-culture-issues-in-regeneration.html  \n",
            "  inflating: data/kmud-151120-steiner-schools-and-education.mp3-transcript.txt  \n",
            "  inflating: __MACOSX/data/._kmud-151120-steiner-schools-and-education.mp3-transcript.txt  \n",
            "  inflating: data/kmud-150116-digestion-and-emotion.mp3-transcript.txt  \n",
            "  inflating: __MACOSX/data/._kmud-150116-digestion-and-emotion.mp3-transcript.txt  \n",
            "  inflating: data/kmud-100716-altitude.mp3-transcript.txt  \n",
            "  inflating: __MACOSX/data/._kmud-100716-altitude.mp3-transcript.txt  \n",
            "  inflating: data/regeneration-and-the-anti-adaptogens.txt  \n",
            "  inflating: data/a-revolution-in-physics.html  \n",
            "  inflating: data/water-swelling-tension-pain-fatigue-aging.html  \n",
            "  inflating: data/1994 - April - Townsend Letter for Doctors.txt  \n",
            "  inflating: data/polsci-140226-william-blake.mp3-transcript.txt  \n",
            "  inflating: __MACOSX/data/._polsci-140226-william-blake.mp3-transcript.txt  \n",
            "  inflating: data/academic-authoritarians-language-metaphor-animals-and-science.html  \n",
            "  inflating: data/fats-functions-and-malfunctions.html  \n",
            "  inflating: data/2013 - March 2.txt  \n",
            "  inflating: data/08.20.19 Super Health Researcher, August 20, 2019 [668670851].mp3-transcript.txt  \n",
            "  inflating: __MACOSX/data/._08.20.19 Super Health Researcher, August 20, 2019 [668670851].mp3-transcript.txt  \n",
            "  inflating: data/2010 - July.txt    \n",
            "  inflating: data/progesterone-and-ideas-of-balance-in-hormone-replacement-therapy.txt  \n",
            "  inflating: data/the-problem-of-alzheimers-disease-as-a-clue-to-immortality.html  \n",
            "  inflating: data/kkvv-081031-ray-peat.mp3-transcript.txt  \n",
            "  inflating: __MACOSX/data/._kkvv-081031-ray-peat.mp3-transcript.txt  \n",
            "  inflating: data/polsci-080724-dogmatism-in-science.mp3-transcript.txt  \n",
            "  inflating: __MACOSX/data/._polsci-080724-dogmatism-in-science.mp3-transcript.txt  \n",
            "  inflating: data/kmud-130920-learned-helplessness-nervous-system-thyroid-questionaire.mp3-transcript.txt  \n",
            "  inflating: __MACOSX/data/._kmud-130920-learned-helplessness-nervous-system-thyroid-questionaire.mp3-transcript.txt  \n",
            "  inflating: data/how-do-you-know-students-patients-and-discovery.html  \n",
            "  inflating: data/osteoporosis-aging-tissue-renewal-and-product-science.html  \n",
            "  inflating: data/eluv-080918-fats.mp3-transcript.txt  \n",
            "  inflating: __MACOSX/data/._eluv-080918-fats.mp3-transcript.txt  \n",
            "  inflating: data/Safe Supplements with Ray Peat [Generative Energy #31] [PuSfV43Quuo].mp3-transcript.txt  \n",
            "  inflating: __MACOSX/data/._Safe Supplements with Ray Peat [Generative Energy #31] [PuSfV43Quuo].mp3-transcript.txt  \n",
            "  inflating: data/kmud-181019-medical-misinformation.mp3-transcript.txt  \n",
            "  inflating: __MACOSX/data/._kmud-181019-medical-misinformation.mp3-transcript.txt  \n",
            "  inflating: data/polsci-120122-progesterone-1.mp3-transcript.txt  \n",
            "  inflating: __MACOSX/data/._polsci-120122-progesterone-1.mp3-transcript.txt  \n",
            "  inflating: data/heart-and-hormones.html  \n",
            "  inflating: data/03.15.21 Peat Ray March [1009402927].mp3-transcript.txt  \n",
            "  inflating: __MACOSX/data/._03.15.21 Peat Ray March [1009402927].mp3-transcript.txt  \n",
            "  inflating: data/ray-peat-responds-to-dr-dravis.txt  \n",
            "  inflating: data/polsci-080918-reductionist-science.mp3-transcript.txt  \n",
            "  inflating: __MACOSX/data/._polsci-080918-reductionist-science.mp3-transcript.txt  \n",
            "  inflating: data/ewh-101118-the-science-behind-the-dangers-of-polyunsaturated-fats.mp3-transcript.txt  \n",
            "  inflating: __MACOSX/data/._ewh-101118-the-science-behind-the-dangers-of-polyunsaturated-fats.mp3-transcript.txt  \n",
            "  inflating: data/kmud-130816-environmental-enrichment.mp3-transcript.txt  \n",
            "  inflating: __MACOSX/data/._kmud-130816-environmental-enrichment.mp3-transcript.txt  \n",
            "  inflating: data/1998 - Unknown - 3.txt  \n",
            "  inflating: data/Radiation and Growth.txt  \n",
            "  inflating: data/asthma-and-metabisulfite.txt  \n",
            "  inflating: data/sunlight-using-it-to-enhance-life.txt  \n",
            "  inflating: data/1991 - February.March - Townsend Letter for Doctors.txt  \n",
            "  inflating: data/1998 - Unknown.txt  \n",
            "  inflating: data/references - unknown.txt  \n",
            "  inflating: data/1990 - May - dupe - Townsend Letter for Doctors.txt  \n",
            "  inflating: data/milk-in-context-allergies-ecology-and-some-myths.html  \n",
            "  inflating: data/1998 - Unknown - 2.txt  \n",
            "  inflating: data/can-some-anomalous-structural-interactions-be-explained-by-an-excitable-ether.html  \n",
            "  inflating: data/the-great-fish-oil-experiment.html  \n",
            "  inflating: data/01.18.21 Peat Ray January [968874163].mp3-transcript.txt  \n",
            "  inflating: __MACOSX/data/._01.18.21 Peat Ray January [968874163].mp3-transcript.txt  \n",
            "  inflating: data/mary-shomon-interview.txt  \n",
            "  inflating: data/1988 - June - Townsend Letter for Doctors.txt  \n",
            "  inflating: __MACOSX/data/._1988 - June - Townsend Letter for Doctors.txt  \n",
            "  inflating: data/08.17.20 Great Monthly Talk with Ray Peat PhD, August 17, 2020 [877857784].mp3-transcript.txt  \n",
            "  inflating: __MACOSX/data/._08.17.20 Great Monthly Talk with Ray Peat PhD, August 17, 2020 [877857784].mp3-transcript.txt  \n",
            "  inflating: data/edema-estrogen-and-aging.txt  \n",
            "  inflating: data/Dr. Ray Peat, Day One： Full Interview from On the Back of a Tiger [jqhlIOt5sUw].mp3-transcript.txt  \n",
            "  inflating: __MACOSX/data/._Dr. Ray Peat, Day One： Full Interview from On the Back of a Tiger [jqhlIOt5sUw].mp3-transcript.txt  \n",
            "  inflating: data/sourcenutritional-120512-brain-and-tissue-1.mp3-transcript.txt  \n",
            "  inflating: __MACOSX/data/._sourcenutritional-120512-brain-and-tissue-1.mp3-transcript.txt  \n",
            "  inflating: data/radiation-and-growth-incoherent-imprinting-from-inappropriate-irradiation.txt  \n",
            "  inflating: data/#47： The Power Elite ｜ Vaccines ｜ Hair Loss ｜ UFOs ｜ Surviving The Great Reset with Ray Peat, PhD [De0fXmRnunU].mp3-transcript.txt  \n",
            "  inflating: __MACOSX/data/._#47： The Power Elite ｜ Vaccines ｜ Hair Loss ｜ UFOs ｜ Surviving The Great Reset with Ray Peat, PhD [De0fXmRnunU].mp3-transcript.txt  \n",
            "  inflating: data/The CIA_s Mighty Wurlitzer with Ray Peat [Generative Energy #32] [TtTiDVWVlQc].mp3-transcript.txt  \n",
            "  inflating: __MACOSX/data/._The CIA_s Mighty Wurlitzer with Ray Peat [Generative Energy #32] [TtTiDVWVlQc].mp3-transcript.txt  \n",
            "  inflating: data/2005 - March.txt   \n",
            "  inflating: data/kmud-101217-radiation.mp3-transcript.txt  \n",
            "  inflating: __MACOSX/data/._kmud-101217-radiation.mp3-transcript.txt  \n",
            "  inflating: data/Talking with Ray Peat [Generative Energy #19] [HPrIPVAD6dI].mp3-transcript.txt  \n",
            "  inflating: __MACOSX/data/._Talking with Ray Peat [Generative Energy #19] [HPrIPVAD6dI].mp3-transcript.txt  \n",
            "  inflating: data/optimizing-respiration.txt  \n",
            "  inflating: data/estrogens-mechanisms-in-aging-and-cancer.txt  \n",
            "  inflating: data/1994 - June - Townsend Letter for Doctors.txt  \n",
            "  inflating: data/kmud-090401-thyroid-polyunsaturated-fats-and-oils.mp3-transcript.txt  \n",
            "  inflating: __MACOSX/data/._kmud-090401-thyroid-polyunsaturated-fats-and-oils.mp3-transcript.txt  \n",
            "  inflating: data/unsaturated-fatty-acids-nutritionally-essential-or-toxic.html  \n",
            "  inflating: data/tissue-bound-estrogen-in-aging.html  \n",
            "  inflating: data/2011 - September.txt  \n",
            "  inflating: data/04.18.22 Peat [1252580716].mp3-transcript.txt  \n",
            "  inflating: __MACOSX/data/._04.18.22 Peat [1252580716].mp3-transcript.txt  \n",
            "  inflating: data/ewh-110712-q-and-a-1.mp3-transcript.txt  \n",
            "  inflating: __MACOSX/data/._ewh-110712-q-and-a-1.mp3-transcript.txt  \n",
            "  inflating: data/05.21.19 Dr Ray Peat PhD, May 21, 2019 [624444612].mp3-transcript.txt  \n",
            "  inflating: __MACOSX/data/._05.21.19 Dr Ray Peat PhD, May 21, 2019 [624444612].mp3-transcript.txt  \n",
            "  inflating: data/1998 - May.txt     \n",
            "  inflating: data/tsh-temperature-pulse-rate-and-other-indicators-in-hypothyroidism.html  \n",
            "  inflating: data/kmud-170915-california-proposition-65.mp3-transcript.txt  \n",
            "  inflating: __MACOSX/data/._kmud-170915-california-proposition-65.mp3-transcript.txt  \n",
            "  inflating: data/phosphate-activation-and-aging.html  \n",
            "  inflating: data/Optimizing The Environment with Ray Peat [Generative Energy #33] [enNGb3c1NKk].mp3-transcript.txt  \n",
            "  inflating: __MACOSX/data/._Optimizing The Environment with Ray Peat [Generative Energy #33] [enNGb3c1NKk].mp3-transcript.txt  \n",
            "  inflating: data/kmud-160617-authoritarianism.mp3-transcript.txt  \n",
            "  inflating: __MACOSX/data/._kmud-160617-authoritarianism.mp3-transcript.txt  \n",
            "  inflating: data/polsci-120107-food-quality.mp3-transcript.txt  \n",
            "  inflating: __MACOSX/data/._polsci-120107-food-quality.mp3-transcript.txt  \n",
            "  inflating: data/1989 - January - Townsend Letter for Doctors.txt  \n",
            "  inflating: data/Progesterone in Orthomolecular Medicine .txt  \n",
            "  inflating: data/kmud-170317-endocrinology-part1-parkinsons.mp3-transcript.txt  \n",
            "  inflating: __MACOSX/data/._kmud-170317-endocrinology-part1-parkinsons.mp3-transcript.txt  \n",
            "  inflating: data/#82： What_s More Toxic： PUFA or Endotoxin？ ｜ Euphoria ｜ Addiction ｜ Meaningful Work ｜ Current Events [U2f0WOaTmu4].mp3-transcript.txt  \n",
            "  inflating: __MACOSX/data/._#82： What_s More Toxic： PUFA or Endotoxin？ ｜ Euphoria ｜ Addiction ｜ Meaningful Work ｜ Current Events [U2f0WOaTmu4].mp3-transcript.txt  \n",
            "  inflating: data/1991 - January - Townsend Letter for Doctors.txt  \n",
            "  inflating: data/sourcenutritional-120512-brain-and-tissue-2.mp3-transcript.txt  \n",
            "  inflating: __MACOSX/data/._sourcenutritional-120512-brain-and-tissue-2.mp3-transcript.txt  \n",
            "  inflating: data/polsci-110316-nuclear-disaster.mp3-transcript.txt  \n",
            "  inflating: __MACOSX/data/._polsci-110316-nuclear-disaster.mp3-transcript.txt  \n",
            "  inflating: data/#70： Life After Death？ ｜ Synchronicity ｜ Sexual Insatiability ｜ Deja Vu ｜ Autoimmunity ｜ Communism [Pdb_xOl3GJY].mp3-transcript.txt  \n",
            "  inflating: __MACOSX/data/._#70： Life After Death？ ｜ Synchronicity ｜ Sexual Insatiability ｜ Deja Vu ｜ Autoimmunity ｜ Communism [Pdb_xOl3GJY].mp3-transcript.txt  \n",
            "  inflating: data/inflammation-endotoxin-estrogen-and-other-problems.txt  \n",
            "  inflating: data/sales-pitch-for-linseed-oil.txt  \n",
            "  inflating: data/2010 - May.txt     \n",
            "  inflating: data/2000 - March.txt   \n",
            "  inflating: data/nutrition-for-women-by-ray-peat.txt  \n",
            "  inflating: data/kmud-151016-current-trends-nitric-oxide.mp3-transcript.txt  \n",
            "  inflating: __MACOSX/data/._kmud-151016-current-trends-nitric-oxide.mp3-transcript.txt  \n",
            "  inflating: data/09.17.19 Peat Ray One [682629224].mp3-transcript.txt  \n",
            "  inflating: __MACOSX/data/._09.17.19 Peat Ray One [682629224].mp3-transcript.txt  \n",
            "  inflating: data/kmud-121116-energetic-interactions-ionizing-and-non-ionizing-radiation.mp3-transcript.txt  \n",
            "  inflating: __MACOSX/data/._kmud-121116-energetic-interactions-ionizing-and-non-ionizing-radiation.mp3-transcript.txt  \n",
            "  inflating: data/05.17.21 Peat Ray [1050901948].mp3-transcript.txt  \n",
            "  inflating: __MACOSX/data/._05.17.21 Peat Ray [1050901948].mp3-transcript.txt  \n",
            "  inflating: data/kmud-160715-the-metabolism-of-cancer.mp3-transcript.txt  \n",
            "  inflating: __MACOSX/data/._kmud-160715-the-metabolism-of-cancer.mp3-transcript.txt  \n",
            "  inflating: data/jf-200116-insulin-resistance-vegans-low-cortisol.mp3-transcript.txt  \n",
            "  inflating: __MACOSX/data/._jf-200116-insulin-resistance-vegans-low-cortisol.mp3-transcript.txt  \n",
            "  inflating: data/kmud-170616-language-criticism-estrogen.mp3-transcript.txt  \n",
            "  inflating: __MACOSX/data/._kmud-170616-language-criticism-estrogen.mp3-transcript.txt  \n",
            "  inflating: data/altitude-and-mortality.html  \n",
            "  inflating: data/Immunity, Hormones and Yeast Infections.txt  \n",
            "  inflating: data/carbon-monoxide-estrogen-and-the-medical-cancer-cult.txt  \n",
            "  inflating: data/kmud-200320-coronavirus.mp3-transcript.txt  \n",
            "  inflating: __MACOSX/data/._kmud-200320-coronavirus.mp3-transcript.txt  \n",
            "  inflating: data/darkness-water-osteoporosis.txt  \n",
            "  inflating: data/2009 - July.txt    \n",
            "  inflating: data/membranes-plasma-membranes-and-surfaces.html  \n",
            "  inflating: data/diabetes-scleroderma-oils-and-hormones.html  \n",
            "  inflating: data/autonomic-systems.html  \n",
            "  inflating: data/neutrinos-and-long-range-interactions.html  \n",
            "  inflating: data/osteoporosis-and-the-skin.txt  \n",
            "  inflating: data/kmud-140221-diabetes.mp3-transcript.txt  \n",
            "  inflating: __MACOSX/data/._kmud-140221-diabetes.mp3-transcript.txt  \n",
            "  inflating: data/Carbon Monoxide - Cancer Hormone.txt  \n",
            "  inflating: data/ewh-130717-energy-and-metabolism.mp3-transcript.txt  \n",
            "  inflating: __MACOSX/data/._ewh-130717-energy-and-metabolism.mp3-transcript.txt  \n",
            "  inflating: data/pathological-science-and-general-electric-threatening-the-paradigm.html  \n",
            "  inflating: data/04.19.21 Peat Ray [1032809317].mp3-transcript.txt  \n",
            "  inflating: __MACOSX/data/._04.19.21 Peat Ray [1032809317].mp3-transcript.txt  \n",
            "  inflating: data/kmud-180921-evidence-based-medicine.mp3-transcript.txt  \n",
            "  inflating: __MACOSX/data/._kmud-180921-evidence-based-medicine.mp3-transcript.txt  \n",
            "  inflating: data/education-against-knowledge.txt  \n",
            "  inflating: data/bse-mad-cow-scrapie-etc-stimulated-amyloid-degeneration-and-the-toxic-fats.html  \n",
            "  inflating: data/#51： Heat Shock Proteins ｜ Antibiotic Resistance ｜ DHT Safety ｜ Energy and Aging with Ray Peat, PhD [5sop_zLMZ34].mp3-transcript.txt  \n",
            "  inflating: __MACOSX/data/._#51： Heat Shock Proteins ｜ Antibiotic Resistance ｜ DHT Safety ｜ Energy and Aging with Ray Peat, PhD [5sop_zLMZ34].mp3-transcript.txt  \n",
            "  inflating: data/2000 - October.txt  \n",
            "  inflating: data/10.15.19 Deep Research into Health, October 15, 2019 [696513319].mp3-transcript.txt  \n",
            "  inflating: __MACOSX/data/._10.15.19 Deep Research into Health, October 15, 2019 [696513319].mp3-transcript.txt  \n",
            "  inflating: data/1989 - April - Townsend Letter for Doctors 11.42.31 PM.txt  \n",
            "  inflating: __MACOSX/data/._1989 - April - Townsend Letter for Doctors 11.42.31 PM.txt  \n",
            "  inflating: data/a-new-approach-to-detoxifying.txt  \n",
            "  inflating: data/kmud-190517-pollution.mp3-transcript.txt  \n",
            "  inflating: __MACOSX/data/._kmud-190517-pollution.mp3-transcript.txt  \n",
            "  inflating: data/thyroid-therapies-confusion-and-fraud.html  \n",
            "  inflating: data/1990 - May - dupe2 - Townsend Letter for Doctors.txt  \n",
            "  inflating: data/kmud-120316-acidity-x-alkalinity.mp3-transcript.txt  \n",
            "  inflating: __MACOSX/data/._kmud-120316-acidity-x-alkalinity.mp3-transcript.txt  \n",
            "  inflating: data/kmud-140516-memory-cognition-and-nutrition.mp3-transcript.txt  \n",
            "  inflating: __MACOSX/data/._kmud-140516-memory-cognition-and-nutrition.mp3-transcript.txt  \n",
            "  inflating: data/tryptophan-serotonin-and-aging.html  \n",
            "  inflating: data/05.16.22 PEAT RAY [1269628684].mp3-transcript.txt  \n",
            "  inflating: __MACOSX/data/._05.16.22 PEAT RAY [1269628684].mp3-transcript.txt  \n",
            "  inflating: data/#76： Antistress Home Strategies ｜ Grounding ｜ Negative Ions ｜ Allopathic Essentialism with Ray Peat [l61D8dJzVWk].mp3-transcript.txt  \n",
            "  inflating: __MACOSX/data/._#76： Antistress Home Strategies ｜ Grounding ｜ Negative Ions ｜ Allopathic Essentialism with Ray Peat [l61D8dJzVWk].mp3-transcript.txt  \n",
            "  inflating: data/#53： What is Inflammation？ ｜ The CIA_s ＂Finders＂ Operation ｜ Using Progesterone ｜ CO2 and Stem Cells [LZLAmwBObdA].mp3-transcript.txt  \n",
            "  inflating: __MACOSX/data/._#53： What is Inflammation？ ｜ The CIA_s ＂Finders＂ Operation ｜ Using Progesterone ｜ CO2 and Stem Cells [LZLAmwBObdA].mp3-transcript.txt  \n",
            "  inflating: data/1998 - Unknown - 4.txt  \n",
            "  inflating: data/yohaf-970211-nutrition-and-the-endocrine-system.mp3-transcript.txt  \n",
            "  inflating: __MACOSX/data/._yohaf-970211-nutrition-and-the-endocrine-system.mp3-transcript.txt  \n",
            "  inflating: data/failures-of-immunity.txt  \n",
            "  inflating: data/bowel-toxins-accelerate-aging-process.txt  \n",
            "  inflating: data/1990 - May - Townsend Letter for Doctors.txt  \n",
            "  inflating: data/1993 - November - Townsend Letter for Doctors.txt  \n",
            "  inflating: data/radiation.mp3-transcript.txt  \n",
            "  inflating: __MACOSX/data/._radiation.mp3-transcript.txt  \n",
            "  inflating: data/12.17.19 The Nation_s Top Contrarian on Health, December 17, 2019 [729743395].mp3-transcript.txt  \n",
            "  inflating: __MACOSX/data/._12.17.19 The Nation_s Top Contrarian on Health, December 17, 2019 [729743395].mp3-transcript.txt  \n",
            "  inflating: data/ewh-110603-milk-calcium-and-hormones.mp3-transcript.txt  \n",
            "  inflating: __MACOSX/data/._ewh-110603-milk-calcium-and-hormones.mp3-transcript.txt  \n",
            "  inflating: data/jf-190427-stress-health.mp3-transcript.txt  \n",
            "  inflating: __MACOSX/data/._jf-190427-stress-health.mp3-transcript.txt  \n",
            "  inflating: data/prostate-cancer.html  \n"
          ]
        }
      ]
    },
    {
      "cell_type": "markdown",
      "source": [
        "## Cleaning up"
      ],
      "metadata": {
        "id": "CEkx0cRnqt7O"
      }
    },
    {
      "cell_type": "code",
      "source": [
        "!rm -rf ./__MACOSX"
      ],
      "metadata": {
        "id": "6sYtdwBArp0-"
      },
      "execution_count": null,
      "outputs": []
    },
    {
      "cell_type": "markdown",
      "source": [
        "## Model Overview\n",
        "\n",
        "Now, a high level overview for how the chatbot model will work. It's important to read this section carefully, as it will give you a framework for how to ultimately improve the model.\n",
        "\n",
        "Essentially, this chatbot is created by doing very involved prompt engineering. Instead of answering the user's query with standard ChatGPT prompt (something like \"You are a helpful chatbot\"), this selects specific segments of the corpus as \"context\" which are then added to the prompt to generate a more relevant response.\n",
        "\n",
        "For example, if someone asks \"What does progesterone do in the body?\" the chatbot program would look through the corpus for mentions of \"progesterone\" and \"body\", then select segments of text that are seemingly relevant. For the sake of the example, let's say it ends up choosing the following text, from Ray's Article \"Progesterone Deceptions\":\n",
        "\n",
        "> Progesterone was known, by the early 1940s, to protect against the many toxic effects of estrogen, including abortion, but it was also known as  nature's contraceptive, since it can prevent pregnancy without harmful  side-effects, by different mechanisms, including prevention of sperm  entry into the uterus. That is, progesterone prevents the miscarriages  which result from excess estrogen (1,2), but if used before intercourse,  it prevents conception, and thus is a true contraceptive, while estrogen is an abortifacient, not a contraceptive.\n",
        "\n",
        "Then, it will create a unique, dynamic prompt to feed into Chat GPT, such as:\n",
        "\n",
        "> You are a helpful chat bot. Using the following as context, please answer the user's questions. If you do not know the answer, do not guess and truthfully say \"I don't know.\"\n",
        ">\n",
        "> Context:\n",
        ">> Progesterone was known, by the early 1940s, to protect against the many toxic effects of estrogen, including abortion, but it was also known as  nature's contraceptive, since it can prevent pregnancy without harmful  side-effects, by different mechanisms, including prevention of sperm  entry into the uterus. That is, progesterone prevents the miscarriages  which result from excess estrogen (1,2), but if used before intercourse,  it prevents conception, and thus is a true contraceptive, while estrogen is an abortifacient, not a contraceptive.\n",
        ">\n",
        "> Question:\n",
        ">> What does progesterone do in the body?\n",
        "\n",
        "That will get passed to the ChatGPT Open AI API with a number of parameters, such as which model is selected, the temperature of the response, and so on."
      ],
      "metadata": {
        "id": "ci5V0fu1rwvR"
      }
    },
    {
      "cell_type": "markdown",
      "source": [
        "## Creating a simple index with gpt_index\n",
        "\n",
        "GPT Index, formerly known as llama-index, basically abstracts all of these steps away for you. I'll show an example below."
      ],
      "metadata": {
        "id": "WPldrjpLwFrF"
      }
    },
    {
      "cell_type": "code",
      "source": [
        "from gpt_index import GPTSimpleVectorIndex, SimpleDirectoryReader, LLMPredictor, ServiceContext"
      ],
      "metadata": {
        "id": "qsY74FTUrw8N"
      },
      "execution_count": null,
      "outputs": []
    },
    {
      "cell_type": "code",
      "source": [
        "os.environ['OPENAI_API_KEY'] = \"YOUR API KEY HERE\""
      ],
      "metadata": {
        "id": "_SWK18EVrxSR"
      },
      "execution_count": null,
      "outputs": []
    },
    {
      "cell_type": "code",
      "source": [
        "data_directory = \"./data/\""
      ],
      "metadata": {
        "id": "7FmYElaPw4r4"
      },
      "execution_count": null,
      "outputs": []
    },
    {
      "cell_type": "code",
      "source": [
        "documents = SimpleDirectoryReader(data_directory).load_data()"
      ],
      "metadata": {
        "id": "FXqarFwwxDWs"
      },
      "execution_count": null,
      "outputs": []
    },
    {
      "cell_type": "code",
      "source": [
        "documents[0].text[700:1000]"
      ],
      "metadata": {
        "colab": {
          "base_uri": "https://localhost:8080/",
          "height": 71
        },
        "id": "hvhCUeMmxGtB",
        "outputId": "59590bdf-49a1-43ce-84ac-d97ba6f137cf"
      },
      "execution_count": null,
      "outputs": [
        {
          "output_type": "execute_result",
          "data": {
            "text/plain": [
              "\"2 33 You You You Okay, and we're live. Hello, everybody. Welcome. We have Georgie and Mr. Raymond Pete on the line and we are talking about Aristotle. We were talking about forms matter, deep politics. And so I'm not going to interrupt what we were talking about, but Georgie, go ahead. Yeah, I was c\""
            ],
            "application/vnd.google.colaboratory.intrinsic+json": {
              "type": "string"
            }
          },
          "metadata": {},
          "execution_count": 10
        }
      ]
    },
    {
      "cell_type": "code",
      "source": [
        "index = GPTSimpleVectorIndex.from_documents(documents)"
      ],
      "metadata": {
        "id": "BhfG7TLgw-iG"
      },
      "execution_count": null,
      "outputs": []
    },
    {
      "cell_type": "code",
      "source": [
        "# save index to disk\n",
        "index.save_to_disk('index_simple.json')"
      ],
      "metadata": {
        "id": "zMYiMAF03Gdn"
      },
      "execution_count": null,
      "outputs": []
    },
    {
      "cell_type": "code",
      "source": [
        "# load index from disk\n",
        "index = GPTSimpleVectorIndex.load_from_disk('index_simple.json')"
      ],
      "metadata": {
        "id": "YC2ws8v33IhL"
      },
      "execution_count": null,
      "outputs": []
    },
    {
      "cell_type": "code",
      "source": [
        "response1 = index.query(\"What is the role of progesterone in the body?\")"
      ],
      "metadata": {
        "id": "H1D9UMrIy31r"
      },
      "execution_count": null,
      "outputs": []
    },
    {
      "cell_type": "code",
      "source": [
        "display(Markdown(f\"{response1}\"))"
      ],
      "metadata": {
        "colab": {
          "base_uri": "https://localhost:8080/",
          "height": 133
        },
        "id": "pM8aRSse1gZD",
        "outputId": "4a5ee53b-d4bb-4b4d-8e81-876d261514e6"
      },
      "execution_count": null,
      "outputs": [
        {
          "output_type": "display_data",
          "data": {
            "text/plain": [
              "<IPython.core.display.Markdown object>"
            ],
            "text/markdown": "\n\nThe role of progesterone in the body is to act as a protective hormone, helping to regulate the body's response to stress and protect against a variety of health issues. It is also necessary for fertility and maintaining a healthy pregnancy. Progesterone helps to regulate the thyroid and other glands, and can be used to treat some types of cancer. It can also be used to treat symptoms such as tendonitis, bursitis, arthritis, sunburn, migraines, PMS, perimenopause, and postmenopause. Additionally, progesterone stimulates the ovaries and adrenals to produce progesterone, and it also activates the thyroid. With a diet high in protein and vitamin A, the dose of progesterone can be reduced each month. In slender post-menopausal women, 10 mg. per day is usually enough to prevent progesterone deficiency symptoms."
          },
          "metadata": {}
        }
      ]
    },
    {
      "cell_type": "code",
      "source": [
        "from gpt_index import GPTSimpleVectorIndex, SimpleDirectoryReader, LLMPredictor, ServiceContext\n",
        "from langchain.chat_models import ChatOpenAI"
      ],
      "metadata": {
        "id": "r8FuTQvG32jW"
      },
      "execution_count": null,
      "outputs": []
    },
    {
      "cell_type": "code",
      "source": [
        "llm_predictor = LLMPredictor(llm=ChatOpenAI(temperature=0, model_name=\"gpt-3.5-turbo\"))\n",
        "service_context = ServiceContext.from_defaults(llm_predictor=llm_predictor, chunk_size_limit=1024)"
      ],
      "metadata": {
        "colab": {
          "base_uri": "https://localhost:8080/"
        },
        "id": "jQSTVH202k3X",
        "outputId": "0d2c3fc3-d5f4-41b8-8dad-0da8d062ea47"
      },
      "execution_count": null,
      "outputs": [
        {
          "output_type": "stream",
          "name": "stderr",
          "text": [
            "WARNING:gpt_index.llm_predictor.base:Unknown max input size for gpt-3.5-turbo, using defaults.\n"
          ]
        }
      ]
    },
    {
      "cell_type": "code",
      "source": [
        "index_custom = GPTSimpleVectorIndex.from_documents(documents, service_context=service_context)"
      ],
      "metadata": {
        "id": "SV7FO_nS3b7Y"
      },
      "execution_count": null,
      "outputs": []
    },
    {
      "cell_type": "code",
      "source": [
        "index_custom.save_to_disk('index_custom.json')"
      ],
      "metadata": {
        "id": "KA3HG_ib39Lr"
      },
      "execution_count": null,
      "outputs": []
    },
    {
      "cell_type": "code",
      "source": [
        "response2 = index_custom.query(\"What is the role of progesterone in the body?\")"
      ],
      "metadata": {
        "id": "dE1vCDCH4DaR"
      },
      "execution_count": null,
      "outputs": []
    },
    {
      "cell_type": "code",
      "source": [
        "display(Markdown(f\"{response2}\"))"
      ],
      "metadata": {
        "colab": {
          "base_uri": "https://localhost:8080/",
          "height": 81
        },
        "id": "ncObIrOp61kI",
        "outputId": "baa8179d-cffb-42f5-8647-6941b21555d5"
      },
      "execution_count": null,
      "outputs": [
        {
          "output_type": "display_data",
          "data": {
            "text/plain": [
              "<IPython.core.display.Markdown object>"
            ],
            "text/markdown": "The role of progesterone in the body is to come in at a high concentration to knock out and destroy the influence of estrogen so that cells stop dividing and start maturing. It sustains pregnancy and gives women a glowing skin, freedom from acne, and flourishing hair and nails. Progesterone can also be used as an anti-testosterone and can be used in high doses for conditions such as heart failure, migraines, and epilepsy."
          },
          "metadata": {}
        }
      ]
    },
    {
      "cell_type": "markdown",
      "source": [
        "Useful links:\n",
        "\n",
        "https://github.com/jerryjliu/llama_index/tree/main/examples/vector_indices"
      ],
      "metadata": {
        "id": "iFc2T1rJ63X8"
      }
    },
    {
      "cell_type": "markdown",
      "source": [
        "Sample questions can be found in this [spreadsheet](https://docs.google.com/spreadsheets/d/1MveP-SY6P8JFvNIctYKb4NDs_wevq7BuOs7k8d1Vf98/edit?usp=sharing)."
      ],
      "metadata": {
        "id": "2ZEx6c7t7qA8"
      }
    },
    {
      "cell_type": "code",
      "source": [],
      "metadata": {
        "id": "fHnwQSOV7t4z"
      },
      "execution_count": null,
      "outputs": []
    }
  ]
}